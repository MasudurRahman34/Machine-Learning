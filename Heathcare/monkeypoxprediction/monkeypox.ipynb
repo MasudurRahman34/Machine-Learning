{
  "nbformat": 4,
  "nbformat_minor": 0,
  "metadata": {
    "colab": {
      "provenance": []
    },
    "kernelspec": {
      "name": "python3",
      "display_name": "Python 3"
    },
    "language_info": {
      "name": "python"
    }
  },
  "cells": [
    {
      "cell_type": "code",
      "execution_count": 287,
      "metadata": {
        "id": "LbJ_I3Gc6JgW"
      },
      "outputs": [],
      "source": [
        "# Import necessary libraries\n",
        "import pandas as panda"
      ]
    },
    {
      "cell_type": "code",
      "source": [
        "#reading data\n",
        "monkeyPoxDf=panda.read_csv('/content/Monkeypox Coursework Dataset.csv')"
      ],
      "metadata": {
        "id": "HX4U_5LH7rLA"
      },
      "execution_count": 288,
      "outputs": []
    },
    {
      "cell_type": "code",
      "source": [
        "print(list(monkeyPoxDf.columns))"
      ],
      "metadata": {
        "colab": {
          "base_uri": "https://localhost:8080/"
        },
        "id": "JHTaPXgO7w1R",
        "outputId": "30a4635b-0dfc-4642-97a4-b48551df5eb4"
      },
      "execution_count": 289,
      "outputs": [
        {
          "output_type": "stream",
          "name": "stdout",
          "text": [
            "['Test ID', 'Systemic Illness', 'Encoded Systemic Illness', 'Rectal Pain', 'Sore Throat', 'Penile Oedema', 'Oral Lesions', 'Solitary Lesion', 'Swollen Tonsils', 'HIV Infection', 'Red blood cells count', 'White blood cells count', 'Home ownership', 'Age', 'Month of Birth', 'Health Insurance', 'Sexually Transmitted Infection', 'MPOX PCR Result']\n"
          ]
        }
      ]
    },
    {
      "cell_type": "code",
      "source": [
        "#column and it's datatype\n",
        "monkeyPoxDf.info()\n"
      ],
      "metadata": {
        "colab": {
          "base_uri": "https://localhost:8080/"
        },
        "id": "4__mrLQs9qf3",
        "outputId": "015cbbff-008a-433d-fe5b-abc1684c7652"
      },
      "execution_count": 290,
      "outputs": [
        {
          "output_type": "stream",
          "name": "stdout",
          "text": [
            "<class 'pandas.core.frame.DataFrame'>\n",
            "RangeIndex: 25000 entries, 0 to 24999\n",
            "Data columns (total 18 columns):\n",
            " #   Column                          Non-Null Count  Dtype  \n",
            "---  ------                          --------------  -----  \n",
            " 0   Test ID                         25000 non-null  object \n",
            " 1   Systemic Illness                24998 non-null  object \n",
            " 2   Encoded Systemic Illness        24998 non-null  float64\n",
            " 3   Rectal Pain                     24997 non-null  float64\n",
            " 4   Sore Throat                     25000 non-null  int64  \n",
            " 5   Penile Oedema                   24994 non-null  float64\n",
            " 6   Oral Lesions                    24996 non-null  object \n",
            " 7   Solitary Lesion                 25000 non-null  int64  \n",
            " 8   Swollen Tonsils                 24993 non-null  float64\n",
            " 9   HIV Infection                   24995 non-null  float64\n",
            " 10  Red blood cells count           25000 non-null  int64  \n",
            " 11  White blood cells count         25000 non-null  int64  \n",
            " 12  Home ownership                  25000 non-null  int64  \n",
            " 13  Age                             24964 non-null  object \n",
            " 14  Month of Birth                  25000 non-null  int64  \n",
            " 15  Health Insurance                25000 non-null  int64  \n",
            " 16  Sexually Transmitted Infection  24996 non-null  float64\n",
            " 17  MPOX PCR Result                 25000 non-null  object \n",
            "dtypes: float64(6), int64(7), object(5)\n",
            "memory usage: 3.4+ MB\n"
          ]
        }
      ]
    },
    {
      "cell_type": "code",
      "source": [
        "monkeyPoxDf.shape"
      ],
      "metadata": {
        "colab": {
          "base_uri": "https://localhost:8080/"
        },
        "id": "K2lApiS_Az6H",
        "outputId": "54301c9f-34a6-4c2d-e61e-3b71df0bcb88"
      },
      "execution_count": 291,
      "outputs": [
        {
          "output_type": "execute_result",
          "data": {
            "text/plain": [
              "(25000, 18)"
            ]
          },
          "metadata": {},
          "execution_count": 291
        }
      ]
    },
    {
      "cell_type": "code",
      "source": [
        "monkeyPoxDf['MPOX PCR Result'].value_counts()"
      ],
      "metadata": {
        "colab": {
          "base_uri": "https://localhost:8080/"
        },
        "id": "pf9OzC_MDL1B",
        "outputId": "95af7bc5-cba1-4e6a-86e3-5fbab1bf2a70"
      },
      "execution_count": 292,
      "outputs": [
        {
          "output_type": "execute_result",
          "data": {
            "text/plain": [
              "Positive    15909\n",
              "Negative     9091\n",
              "Name: MPOX PCR Result, dtype: int64"
            ]
          },
          "metadata": {},
          "execution_count": 292
        }
      ]
    },
    {
      "cell_type": "code",
      "source": [
        "#Encoded the categorical target varible ((Positive, Negative)) Into (1,0)\n",
        "map_dict = {\n",
        "    'Positive':1,\n",
        "    'Negative': 0,\n",
        "}\n",
        "monkeyPoxDf['MPOX PCR Result']=monkeyPoxDf['MPOX PCR Result'].map(map_dict)\n"
      ],
      "metadata": {
        "id": "ozIu1Aww-ZZx"
      },
      "execution_count": 293,
      "outputs": []
    },
    {
      "cell_type": "code",
      "source": [
        "#1.a droping redundant columns from dataset, inplace true=overright dataframe\n",
        "monkeyPoxDf.drop(['Test ID','Systemic Illness', 'Home ownership'], axis=1, inplace=True)\n"
      ],
      "metadata": {
        "id": "RwrdSBxWB3_Z"
      },
      "execution_count": 294,
      "outputs": []
    },
    {
      "cell_type": "code",
      "source": [
        "\n",
        "monkeyPoxDf.dtypes"
      ],
      "metadata": {
        "colab": {
          "base_uri": "https://localhost:8080/"
        },
        "id": "9Wil5c_Xf8f0",
        "outputId": "ecf5a2ec-9e51-43b8-ff54-2a153bfd1018"
      },
      "execution_count": 295,
      "outputs": [
        {
          "output_type": "execute_result",
          "data": {
            "text/plain": [
              "Encoded Systemic Illness          float64\n",
              "Rectal Pain                       float64\n",
              "Sore Throat                         int64\n",
              "Penile Oedema                     float64\n",
              "Oral Lesions                       object\n",
              "Solitary Lesion                     int64\n",
              "Swollen Tonsils                   float64\n",
              "HIV Infection                     float64\n",
              "Red blood cells count               int64\n",
              "White blood cells count             int64\n",
              "Age                                object\n",
              "Month of Birth                      int64\n",
              "Health Insurance                    int64\n",
              "Sexually Transmitted Infection    float64\n",
              "MPOX PCR Result                     int64\n",
              "dtype: object"
            ]
          },
          "metadata": {},
          "execution_count": 295
        }
      ]
    },
    {
      "cell_type": "code",
      "source": [
        "#2.a statistical description of retain dataset\n",
        "monkeyPoxDf.describe().transpose()"
      ],
      "metadata": {
        "colab": {
          "base_uri": "https://localhost:8080/",
          "height": 457
        },
        "id": "QM8dR0u7hW2E",
        "outputId": "e925c7c3-a05a-4bd7-ab88-796a3dacb13d"
      },
      "execution_count": 296,
      "outputs": [
        {
          "output_type": "execute_result",
          "data": {
            "text/plain": [
              "                                  count          mean            std  \\\n",
              "Encoded Systemic Illness        24998.0  1.497640e+00       1.116872   \n",
              "Rectal Pain                     24997.0  4.938193e-01       0.499972   \n",
              "Sore Throat                     25000.0  5.021600e-01       0.500005   \n",
              "Penile Oedema                   24994.0  5.044411e-01       0.499990   \n",
              "Solitary Lesion                 25000.0  5.010800e-01       0.500009   \n",
              "Swollen Tonsils                 24993.0  5.012604e-01       0.500008   \n",
              "HIV Infection                   24995.0  5.033007e-01       0.499999   \n",
              "Red blood cells count           25000.0  5.004591e+06  520475.952328   \n",
              "White blood cells count         25000.0  7.749114e+03    1885.213591   \n",
              "Month of Birth                  25000.0  6.517040e+00       3.441038   \n",
              "Health Insurance                25000.0  4.984800e-01       0.500008   \n",
              "Sexually Transmitted Infection  24996.0  4.978797e-01       0.500006   \n",
              "MPOX PCR Result                 25000.0  6.363600e-01       0.481056   \n",
              "\n",
              "                                      min         25%        50%        75%  \\\n",
              "Encoded Systemic Illness              0.0        1.00        1.0        3.0   \n",
              "Rectal Pain                           0.0        0.00        0.0        1.0   \n",
              "Sore Throat                           0.0        0.00        1.0        1.0   \n",
              "Penile Oedema                         0.0        0.00        1.0        1.0   \n",
              "Solitary Lesion                       0.0        0.00        1.0        1.0   \n",
              "Swollen Tonsils                       0.0        0.00        1.0        1.0   \n",
              "HIV Infection                         0.0        0.00        1.0        1.0   \n",
              "Red blood cells count           4100135.0  4555417.75  5002304.0  5458530.5   \n",
              "White blood cells count            4500.0     6116.00     7747.0     9379.0   \n",
              "Month of Birth                        1.0        4.00        7.0       10.0   \n",
              "Health Insurance                      0.0        0.00        0.0        1.0   \n",
              "Sexually Transmitted Infection        0.0        0.00        0.0        1.0   \n",
              "MPOX PCR Result                       0.0        0.00        1.0        1.0   \n",
              "\n",
              "                                      max  \n",
              "Encoded Systemic Illness              3.0  \n",
              "Rectal Pain                           1.0  \n",
              "Sore Throat                           1.0  \n",
              "Penile Oedema                         1.0  \n",
              "Solitary Lesion                       1.0  \n",
              "Swollen Tonsils                       1.0  \n",
              "HIV Infection                         1.0  \n",
              "Red blood cells count           5899806.0  \n",
              "White blood cells count           11000.0  \n",
              "Month of Birth                       12.0  \n",
              "Health Insurance                      1.0  \n",
              "Sexually Transmitted Infection        1.0  \n",
              "MPOX PCR Result                       1.0  "
            ],
            "text/html": [
              "\n",
              "  <div id=\"df-98613de4-849e-4b4e-9ab5-88ac7269c9aa\" class=\"colab-df-container\">\n",
              "    <div>\n",
              "<style scoped>\n",
              "    .dataframe tbody tr th:only-of-type {\n",
              "        vertical-align: middle;\n",
              "    }\n",
              "\n",
              "    .dataframe tbody tr th {\n",
              "        vertical-align: top;\n",
              "    }\n",
              "\n",
              "    .dataframe thead th {\n",
              "        text-align: right;\n",
              "    }\n",
              "</style>\n",
              "<table border=\"1\" class=\"dataframe\">\n",
              "  <thead>\n",
              "    <tr style=\"text-align: right;\">\n",
              "      <th></th>\n",
              "      <th>count</th>\n",
              "      <th>mean</th>\n",
              "      <th>std</th>\n",
              "      <th>min</th>\n",
              "      <th>25%</th>\n",
              "      <th>50%</th>\n",
              "      <th>75%</th>\n",
              "      <th>max</th>\n",
              "    </tr>\n",
              "  </thead>\n",
              "  <tbody>\n",
              "    <tr>\n",
              "      <th>Encoded Systemic Illness</th>\n",
              "      <td>24998.0</td>\n",
              "      <td>1.497640e+00</td>\n",
              "      <td>1.116872</td>\n",
              "      <td>0.0</td>\n",
              "      <td>1.00</td>\n",
              "      <td>1.0</td>\n",
              "      <td>3.0</td>\n",
              "      <td>3.0</td>\n",
              "    </tr>\n",
              "    <tr>\n",
              "      <th>Rectal Pain</th>\n",
              "      <td>24997.0</td>\n",
              "      <td>4.938193e-01</td>\n",
              "      <td>0.499972</td>\n",
              "      <td>0.0</td>\n",
              "      <td>0.00</td>\n",
              "      <td>0.0</td>\n",
              "      <td>1.0</td>\n",
              "      <td>1.0</td>\n",
              "    </tr>\n",
              "    <tr>\n",
              "      <th>Sore Throat</th>\n",
              "      <td>25000.0</td>\n",
              "      <td>5.021600e-01</td>\n",
              "      <td>0.500005</td>\n",
              "      <td>0.0</td>\n",
              "      <td>0.00</td>\n",
              "      <td>1.0</td>\n",
              "      <td>1.0</td>\n",
              "      <td>1.0</td>\n",
              "    </tr>\n",
              "    <tr>\n",
              "      <th>Penile Oedema</th>\n",
              "      <td>24994.0</td>\n",
              "      <td>5.044411e-01</td>\n",
              "      <td>0.499990</td>\n",
              "      <td>0.0</td>\n",
              "      <td>0.00</td>\n",
              "      <td>1.0</td>\n",
              "      <td>1.0</td>\n",
              "      <td>1.0</td>\n",
              "    </tr>\n",
              "    <tr>\n",
              "      <th>Solitary Lesion</th>\n",
              "      <td>25000.0</td>\n",
              "      <td>5.010800e-01</td>\n",
              "      <td>0.500009</td>\n",
              "      <td>0.0</td>\n",
              "      <td>0.00</td>\n",
              "      <td>1.0</td>\n",
              "      <td>1.0</td>\n",
              "      <td>1.0</td>\n",
              "    </tr>\n",
              "    <tr>\n",
              "      <th>Swollen Tonsils</th>\n",
              "      <td>24993.0</td>\n",
              "      <td>5.012604e-01</td>\n",
              "      <td>0.500008</td>\n",
              "      <td>0.0</td>\n",
              "      <td>0.00</td>\n",
              "      <td>1.0</td>\n",
              "      <td>1.0</td>\n",
              "      <td>1.0</td>\n",
              "    </tr>\n",
              "    <tr>\n",
              "      <th>HIV Infection</th>\n",
              "      <td>24995.0</td>\n",
              "      <td>5.033007e-01</td>\n",
              "      <td>0.499999</td>\n",
              "      <td>0.0</td>\n",
              "      <td>0.00</td>\n",
              "      <td>1.0</td>\n",
              "      <td>1.0</td>\n",
              "      <td>1.0</td>\n",
              "    </tr>\n",
              "    <tr>\n",
              "      <th>Red blood cells count</th>\n",
              "      <td>25000.0</td>\n",
              "      <td>5.004591e+06</td>\n",
              "      <td>520475.952328</td>\n",
              "      <td>4100135.0</td>\n",
              "      <td>4555417.75</td>\n",
              "      <td>5002304.0</td>\n",
              "      <td>5458530.5</td>\n",
              "      <td>5899806.0</td>\n",
              "    </tr>\n",
              "    <tr>\n",
              "      <th>White blood cells count</th>\n",
              "      <td>25000.0</td>\n",
              "      <td>7.749114e+03</td>\n",
              "      <td>1885.213591</td>\n",
              "      <td>4500.0</td>\n",
              "      <td>6116.00</td>\n",
              "      <td>7747.0</td>\n",
              "      <td>9379.0</td>\n",
              "      <td>11000.0</td>\n",
              "    </tr>\n",
              "    <tr>\n",
              "      <th>Month of Birth</th>\n",
              "      <td>25000.0</td>\n",
              "      <td>6.517040e+00</td>\n",
              "      <td>3.441038</td>\n",
              "      <td>1.0</td>\n",
              "      <td>4.00</td>\n",
              "      <td>7.0</td>\n",
              "      <td>10.0</td>\n",
              "      <td>12.0</td>\n",
              "    </tr>\n",
              "    <tr>\n",
              "      <th>Health Insurance</th>\n",
              "      <td>25000.0</td>\n",
              "      <td>4.984800e-01</td>\n",
              "      <td>0.500008</td>\n",
              "      <td>0.0</td>\n",
              "      <td>0.00</td>\n",
              "      <td>0.0</td>\n",
              "      <td>1.0</td>\n",
              "      <td>1.0</td>\n",
              "    </tr>\n",
              "    <tr>\n",
              "      <th>Sexually Transmitted Infection</th>\n",
              "      <td>24996.0</td>\n",
              "      <td>4.978797e-01</td>\n",
              "      <td>0.500006</td>\n",
              "      <td>0.0</td>\n",
              "      <td>0.00</td>\n",
              "      <td>0.0</td>\n",
              "      <td>1.0</td>\n",
              "      <td>1.0</td>\n",
              "    </tr>\n",
              "    <tr>\n",
              "      <th>MPOX PCR Result</th>\n",
              "      <td>25000.0</td>\n",
              "      <td>6.363600e-01</td>\n",
              "      <td>0.481056</td>\n",
              "      <td>0.0</td>\n",
              "      <td>0.00</td>\n",
              "      <td>1.0</td>\n",
              "      <td>1.0</td>\n",
              "      <td>1.0</td>\n",
              "    </tr>\n",
              "  </tbody>\n",
              "</table>\n",
              "</div>\n",
              "    <div class=\"colab-df-buttons\">\n",
              "\n",
              "  <div class=\"colab-df-container\">\n",
              "    <button class=\"colab-df-convert\" onclick=\"convertToInteractive('df-98613de4-849e-4b4e-9ab5-88ac7269c9aa')\"\n",
              "            title=\"Convert this dataframe to an interactive table.\"\n",
              "            style=\"display:none;\">\n",
              "\n",
              "  <svg xmlns=\"http://www.w3.org/2000/svg\" height=\"24px\" viewBox=\"0 -960 960 960\">\n",
              "    <path d=\"M120-120v-720h720v720H120Zm60-500h600v-160H180v160Zm220 220h160v-160H400v160Zm0 220h160v-160H400v160ZM180-400h160v-160H180v160Zm440 0h160v-160H620v160ZM180-180h160v-160H180v160Zm440 0h160v-160H620v160Z\"/>\n",
              "  </svg>\n",
              "    </button>\n",
              "\n",
              "  <style>\n",
              "    .colab-df-container {\n",
              "      display:flex;\n",
              "      gap: 12px;\n",
              "    }\n",
              "\n",
              "    .colab-df-convert {\n",
              "      background-color: #E8F0FE;\n",
              "      border: none;\n",
              "      border-radius: 50%;\n",
              "      cursor: pointer;\n",
              "      display: none;\n",
              "      fill: #1967D2;\n",
              "      height: 32px;\n",
              "      padding: 0 0 0 0;\n",
              "      width: 32px;\n",
              "    }\n",
              "\n",
              "    .colab-df-convert:hover {\n",
              "      background-color: #E2EBFA;\n",
              "      box-shadow: 0px 1px 2px rgba(60, 64, 67, 0.3), 0px 1px 3px 1px rgba(60, 64, 67, 0.15);\n",
              "      fill: #174EA6;\n",
              "    }\n",
              "\n",
              "    .colab-df-buttons div {\n",
              "      margin-bottom: 4px;\n",
              "    }\n",
              "\n",
              "    [theme=dark] .colab-df-convert {\n",
              "      background-color: #3B4455;\n",
              "      fill: #D2E3FC;\n",
              "    }\n",
              "\n",
              "    [theme=dark] .colab-df-convert:hover {\n",
              "      background-color: #434B5C;\n",
              "      box-shadow: 0px 1px 3px 1px rgba(0, 0, 0, 0.15);\n",
              "      filter: drop-shadow(0px 1px 2px rgba(0, 0, 0, 0.3));\n",
              "      fill: #FFFFFF;\n",
              "    }\n",
              "  </style>\n",
              "\n",
              "    <script>\n",
              "      const buttonEl =\n",
              "        document.querySelector('#df-98613de4-849e-4b4e-9ab5-88ac7269c9aa button.colab-df-convert');\n",
              "      buttonEl.style.display =\n",
              "        google.colab.kernel.accessAllowed ? 'block' : 'none';\n",
              "\n",
              "      async function convertToInteractive(key) {\n",
              "        const element = document.querySelector('#df-98613de4-849e-4b4e-9ab5-88ac7269c9aa');\n",
              "        const dataTable =\n",
              "          await google.colab.kernel.invokeFunction('convertToInteractive',\n",
              "                                                    [key], {});\n",
              "        if (!dataTable) return;\n",
              "\n",
              "        const docLinkHtml = 'Like what you see? Visit the ' +\n",
              "          '<a target=\"_blank\" href=https://colab.research.google.com/notebooks/data_table.ipynb>data table notebook</a>'\n",
              "          + ' to learn more about interactive tables.';\n",
              "        element.innerHTML = '';\n",
              "        dataTable['output_type'] = 'display_data';\n",
              "        await google.colab.output.renderOutput(dataTable, element);\n",
              "        const docLink = document.createElement('div');\n",
              "        docLink.innerHTML = docLinkHtml;\n",
              "        element.appendChild(docLink);\n",
              "      }\n",
              "    </script>\n",
              "  </div>\n",
              "\n",
              "\n",
              "<div id=\"df-4177f9b4-25d2-4875-82f5-12e1a440e6b4\">\n",
              "  <button class=\"colab-df-quickchart\" onclick=\"quickchart('df-4177f9b4-25d2-4875-82f5-12e1a440e6b4')\"\n",
              "            title=\"Suggest charts\"\n",
              "            style=\"display:none;\">\n",
              "\n",
              "<svg xmlns=\"http://www.w3.org/2000/svg\" height=\"24px\"viewBox=\"0 0 24 24\"\n",
              "     width=\"24px\">\n",
              "    <g>\n",
              "        <path d=\"M19 3H5c-1.1 0-2 .9-2 2v14c0 1.1.9 2 2 2h14c1.1 0 2-.9 2-2V5c0-1.1-.9-2-2-2zM9 17H7v-7h2v7zm4 0h-2V7h2v10zm4 0h-2v-4h2v4z\"/>\n",
              "    </g>\n",
              "</svg>\n",
              "  </button>\n",
              "\n",
              "<style>\n",
              "  .colab-df-quickchart {\n",
              "      --bg-color: #E8F0FE;\n",
              "      --fill-color: #1967D2;\n",
              "      --hover-bg-color: #E2EBFA;\n",
              "      --hover-fill-color: #174EA6;\n",
              "      --disabled-fill-color: #AAA;\n",
              "      --disabled-bg-color: #DDD;\n",
              "  }\n",
              "\n",
              "  [theme=dark] .colab-df-quickchart {\n",
              "      --bg-color: #3B4455;\n",
              "      --fill-color: #D2E3FC;\n",
              "      --hover-bg-color: #434B5C;\n",
              "      --hover-fill-color: #FFFFFF;\n",
              "      --disabled-bg-color: #3B4455;\n",
              "      --disabled-fill-color: #666;\n",
              "  }\n",
              "\n",
              "  .colab-df-quickchart {\n",
              "    background-color: var(--bg-color);\n",
              "    border: none;\n",
              "    border-radius: 50%;\n",
              "    cursor: pointer;\n",
              "    display: none;\n",
              "    fill: var(--fill-color);\n",
              "    height: 32px;\n",
              "    padding: 0;\n",
              "    width: 32px;\n",
              "  }\n",
              "\n",
              "  .colab-df-quickchart:hover {\n",
              "    background-color: var(--hover-bg-color);\n",
              "    box-shadow: 0 1px 2px rgba(60, 64, 67, 0.3), 0 1px 3px 1px rgba(60, 64, 67, 0.15);\n",
              "    fill: var(--button-hover-fill-color);\n",
              "  }\n",
              "\n",
              "  .colab-df-quickchart-complete:disabled,\n",
              "  .colab-df-quickchart-complete:disabled:hover {\n",
              "    background-color: var(--disabled-bg-color);\n",
              "    fill: var(--disabled-fill-color);\n",
              "    box-shadow: none;\n",
              "  }\n",
              "\n",
              "  .colab-df-spinner {\n",
              "    border: 2px solid var(--fill-color);\n",
              "    border-color: transparent;\n",
              "    border-bottom-color: var(--fill-color);\n",
              "    animation:\n",
              "      spin 1s steps(1) infinite;\n",
              "  }\n",
              "\n",
              "  @keyframes spin {\n",
              "    0% {\n",
              "      border-color: transparent;\n",
              "      border-bottom-color: var(--fill-color);\n",
              "      border-left-color: var(--fill-color);\n",
              "    }\n",
              "    20% {\n",
              "      border-color: transparent;\n",
              "      border-left-color: var(--fill-color);\n",
              "      border-top-color: var(--fill-color);\n",
              "    }\n",
              "    30% {\n",
              "      border-color: transparent;\n",
              "      border-left-color: var(--fill-color);\n",
              "      border-top-color: var(--fill-color);\n",
              "      border-right-color: var(--fill-color);\n",
              "    }\n",
              "    40% {\n",
              "      border-color: transparent;\n",
              "      border-right-color: var(--fill-color);\n",
              "      border-top-color: var(--fill-color);\n",
              "    }\n",
              "    60% {\n",
              "      border-color: transparent;\n",
              "      border-right-color: var(--fill-color);\n",
              "    }\n",
              "    80% {\n",
              "      border-color: transparent;\n",
              "      border-right-color: var(--fill-color);\n",
              "      border-bottom-color: var(--fill-color);\n",
              "    }\n",
              "    90% {\n",
              "      border-color: transparent;\n",
              "      border-bottom-color: var(--fill-color);\n",
              "    }\n",
              "  }\n",
              "</style>\n",
              "\n",
              "  <script>\n",
              "    async function quickchart(key) {\n",
              "      const quickchartButtonEl =\n",
              "        document.querySelector('#' + key + ' button');\n",
              "      quickchartButtonEl.disabled = true;  // To prevent multiple clicks.\n",
              "      quickchartButtonEl.classList.add('colab-df-spinner');\n",
              "      try {\n",
              "        const charts = await google.colab.kernel.invokeFunction(\n",
              "            'suggestCharts', [key], {});\n",
              "      } catch (error) {\n",
              "        console.error('Error during call to suggestCharts:', error);\n",
              "      }\n",
              "      quickchartButtonEl.classList.remove('colab-df-spinner');\n",
              "      quickchartButtonEl.classList.add('colab-df-quickchart-complete');\n",
              "    }\n",
              "    (() => {\n",
              "      let quickchartButtonEl =\n",
              "        document.querySelector('#df-4177f9b4-25d2-4875-82f5-12e1a440e6b4 button');\n",
              "      quickchartButtonEl.style.display =\n",
              "        google.colab.kernel.accessAllowed ? 'block' : 'none';\n",
              "    })();\n",
              "  </script>\n",
              "</div>\n",
              "    </div>\n",
              "  </div>\n"
            ]
          },
          "metadata": {},
          "execution_count": 296
        }
      ]
    },
    {
      "cell_type": "code",
      "source": [
        "#calculation percentage (Positive, Negative) of class variable\n",
        "\n",
        "countOfClass=monkeyPoxDf['MPOX PCR Result'].value_counts()\n",
        "percentage_of_class=countOfClass/countOfClass.sum() * 100\n",
        "print(f\"Positive: {percentage_of_class[1]:.2f}%\")\n",
        "print(f\"Negative: {percentage_of_class[0]:.2f}%\")\n",
        "print(f\"Positive: {countOfClass[1]}\")\n",
        "print(f\"Negative: {countOfClass[0]}\")\n",
        "print(f\"Total: {countOfClass[0]+countOfClass[1]}\")\n"
      ],
      "metadata": {
        "colab": {
          "base_uri": "https://localhost:8080/"
        },
        "id": "zpgmX-TYhn6X",
        "outputId": "74cd6a5a-e5a6-4062-cdcd-c071b9a89318"
      },
      "execution_count": 297,
      "outputs": [
        {
          "output_type": "stream",
          "name": "stdout",
          "text": [
            "Positive: 63.64%\n",
            "Negative: 36.36%\n",
            "Positive: 15909\n",
            "Negative: 9091\n",
            "Total: 25000\n"
          ]
        }
      ]
    },
    {
      "cell_type": "code",
      "source": [
        "import seaborn as sns\n",
        "import matplotlib.pyplot as plt\n",
        "\n",
        "# Create a count plot\n",
        "plt.figure(figsize=(8, 6))\n",
        "# sns.countplot(data=monkeyPoxDf, x=monkeyPoxDf['Encoded Mpox PCR Result'], palette='Set1')\n",
        "sns.countplot(data=monkeyPoxDf, x=monkeyPoxDf['MPOX PCR Result'], palette='Set1')\n",
        "# Add count labels on top of the bars\n",
        "for p in plt.gca().patches:\n",
        "  plt.gca().annotate(f\"{int(p.get_height())}\", (p.get_x() + p.get_width() / 2., p.get_height()), ha='center', va='center', xytext=(0, 10), textcoords='offset points')\n",
        "plt.title('Distribution of Mpox')\n",
        "plt.xlabel('MPOX PCR Result (0=Negative 1=Positive)')\n",
        "plt.ylabel('Frequency')\n",
        "plt.show()"
      ],
      "metadata": {
        "colab": {
          "base_uri": "https://localhost:8080/",
          "height": 564
        },
        "id": "pSjtYwqf4Tyi",
        "outputId": "2cbdd782-1210-4c68-e507-188f80c9d6d3"
      },
      "execution_count": 298,
      "outputs": [
        {
          "output_type": "display_data",
          "data": {
            "text/plain": [
              "<Figure size 800x600 with 1 Axes>"
            ],
            "image/png": "[encoded data removed]"
          },
          "metadata": {}
        }
      ]
    },
    {
      "cell_type": "code",
      "source": [
        "#viewing missing or null value of each feature\n",
        "monkeyPoxDf.isnull().sum()"
      ],
      "metadata": {
        "colab": {
          "base_uri": "https://localhost:8080/"
        },
        "id": "c1qAaLESaOcx",
        "outputId": "86a3456d-7e59-4ac8-c55c-dad48b98201c"
      },
      "execution_count": 299,
      "outputs": [
        {
          "output_type": "execute_result",
          "data": {
            "text/plain": [
              "Encoded Systemic Illness           2\n",
              "Rectal Pain                        3\n",
              "Sore Throat                        0\n",
              "Penile Oedema                      6\n",
              "Oral Lesions                       4\n",
              "Solitary Lesion                    0\n",
              "Swollen Tonsils                    7\n",
              "HIV Infection                      5\n",
              "Red blood cells count              0\n",
              "White blood cells count            0\n",
              "Age                               36\n",
              "Month of Birth                     0\n",
              "Health Insurance                   0\n",
              "Sexually Transmitted Infection     4\n",
              "MPOX PCR Result                    0\n",
              "dtype: int64"
            ]
          },
          "metadata": {},
          "execution_count": 299
        }
      ]
    },
    {
      "cell_type": "code",
      "source": [
        "#calculation percentage of each features\n",
        "monkeyPoxDf.isna().sum()/len(monkeyPoxDf)*100\n"
      ],
      "metadata": {
        "colab": {
          "base_uri": "https://localhost:8080/"
        },
        "id": "7oKIyByp_HOc",
        "outputId": "0e0631f9-44e4-49d1-9aba-b71eb1bb7c71"
      },
      "execution_count": 300,
      "outputs": [
        {
          "output_type": "execute_result",
          "data": {
            "text/plain": [
              "Encoded Systemic Illness          0.008\n",
              "Rectal Pain                       0.012\n",
              "Sore Throat                       0.000\n",
              "Penile Oedema                     0.024\n",
              "Oral Lesions                      0.016\n",
              "Solitary Lesion                   0.000\n",
              "Swollen Tonsils                   0.028\n",
              "HIV Infection                     0.020\n",
              "Red blood cells count             0.000\n",
              "White blood cells count           0.000\n",
              "Age                               0.144\n",
              "Month of Birth                    0.000\n",
              "Health Insurance                  0.000\n",
              "Sexually Transmitted Infection    0.016\n",
              "MPOX PCR Result                   0.000\n",
              "dtype: float64"
            ]
          },
          "metadata": {},
          "execution_count": 300
        }
      ]
    },
    {
      "cell_type": "code",
      "source": [
        "# Display the overall missing percentage\n",
        "overall_missing_percentage = (monkeyPoxDf.isnull().sum().sum() / (monkeyPoxDf.shape[0] * monkeyPoxDf.shape[1])) * 100\n",
        "print(f\"Overall Missing Percentage: {overall_missing_percentage:.2f}%\")"
      ],
      "metadata": {
        "colab": {
          "base_uri": "https://localhost:8080/"
        },
        "id": "OIAi_U_zwWIp",
        "outputId": "8a819d93-f2a3-4914-c203-122425497f81"
      },
      "execution_count": 301,
      "outputs": [
        {
          "output_type": "stream",
          "name": "stdout",
          "text": [
            "Overall Missing Percentage: 0.02%\n"
          ]
        }
      ]
    },
    {
      "cell_type": "code",
      "source": [
        "#cleaning missing value\n",
        "monkeyPoxDf_drop = monkeyPoxDf.dropna()\n",
        "monkeyPoxDf=monkeyPoxDf_drop"
      ],
      "metadata": {
        "id": "i6z71Bgl-ue3"
      },
      "execution_count": 302,
      "outputs": []
    },
    {
      "cell_type": "code",
      "source": [
        "#after cleaning missing value count\n",
        "monkeyPoxDf.isnull().sum()"
      ],
      "metadata": {
        "colab": {
          "base_uri": "https://localhost:8080/"
        },
        "id": "E3DvDqdHe_5n",
        "outputId": "d1f1584f-035d-4476-99e5-d57d3d8b5ecc"
      },
      "execution_count": 303,
      "outputs": [
        {
          "output_type": "execute_result",
          "data": {
            "text/plain": [
              "Encoded Systemic Illness          0\n",
              "Rectal Pain                       0\n",
              "Sore Throat                       0\n",
              "Penile Oedema                     0\n",
              "Oral Lesions                      0\n",
              "Solitary Lesion                   0\n",
              "Swollen Tonsils                   0\n",
              "HIV Infection                     0\n",
              "Red blood cells count             0\n",
              "White blood cells count           0\n",
              "Age                               0\n",
              "Month of Birth                    0\n",
              "Health Insurance                  0\n",
              "Sexually Transmitted Infection    0\n",
              "MPOX PCR Result                   0\n",
              "dtype: int64"
            ]
          },
          "metadata": {},
          "execution_count": 303
        }
      ]
    },
    {
      "cell_type": "code",
      "source": [
        "#after cleaning missing value percentage\n",
        "monkeyPoxDf_drop.isna().sum()/len(monkeyPoxDf_drop)*100"
      ],
      "metadata": {
        "colab": {
          "base_uri": "https://localhost:8080/"
        },
        "id": "8D6Og5LQ_e5v",
        "outputId": "4ce21429-8a91-4e4e-a976-0377a70eb2a2"
      },
      "execution_count": 304,
      "outputs": [
        {
          "output_type": "execute_result",
          "data": {
            "text/plain": [
              "Encoded Systemic Illness          0.0\n",
              "Rectal Pain                       0.0\n",
              "Sore Throat                       0.0\n",
              "Penile Oedema                     0.0\n",
              "Oral Lesions                      0.0\n",
              "Solitary Lesion                   0.0\n",
              "Swollen Tonsils                   0.0\n",
              "HIV Infection                     0.0\n",
              "Red blood cells count             0.0\n",
              "White blood cells count           0.0\n",
              "Age                               0.0\n",
              "Month of Birth                    0.0\n",
              "Health Insurance                  0.0\n",
              "Sexually Transmitted Infection    0.0\n",
              "MPOX PCR Result                   0.0\n",
              "dtype: float64"
            ]
          },
          "metadata": {},
          "execution_count": 304
        }
      ]
    },
    {
      "cell_type": "code",
      "source": [
        "after_cleaning_overall_missing_percentage = (monkeyPoxDf_drop.isnull().sum().sum() / (monkeyPoxDf_drop.shape[0] * monkeyPoxDf_drop.shape[1])) * 100\n",
        "\n",
        "# the overall missing percentage after cleaning\n",
        "print(f\"After cleaning Overall Missing Percentage: {after_cleaning_overall_missing_percentage:.2f}%\")"
      ],
      "metadata": {
        "colab": {
          "base_uri": "https://localhost:8080/"
        },
        "outputId": "35dca687-aff5-40af-b6e5-114bc484fb6c",
        "id": "0GXQYofjAV-i"
      },
      "execution_count": 305,
      "outputs": [
        {
          "output_type": "stream",
          "name": "stdout",
          "text": [
            "After cleaning Overall Missing Percentage: 0.00%\n"
          ]
        }
      ]
    },
    {
      "cell_type": "code",
      "source": [
        "#count different kind of value\n",
        "monkeyPoxDf['Oral Lesions'].value_counts()\n"
      ],
      "metadata": {
        "colab": {
          "base_uri": "https://localhost:8080/"
        },
        "id": "JwsNAInkUJCx",
        "outputId": "4747889a-7e53-4d75-ba89-d286c7a91567"
      },
      "execution_count": 306,
      "outputs": [
        {
          "output_type": "execute_result",
          "data": {
            "text/plain": [
              "0      12474\n",
              "1      12449\n",
              "No         7\n",
              "YES        4\n",
              "Name: Oral Lesions, dtype: int64"
            ]
          },
          "metadata": {},
          "execution_count": 306
        }
      ]
    },
    {
      "cell_type": "code",
      "source": [
        "#replace yes no with 1, 0\n",
        "def replace_YesNo(Oral_Lesions):\n",
        "    if Oral_Lesions == 'YES':\n",
        "        return 1\n",
        "    elif Oral_Lesions == 'No':\n",
        "        return 0\n",
        "    else:\n",
        "        return Oral_Lesions\n",
        "\n",
        "# Apply the function to the 'Oral Lesions' column\n",
        "monkeyPoxDf['Oral Lesions'] = monkeyPoxDf['Oral Lesions'].apply(replace_YesNo)\n"
      ],
      "metadata": {
        "id": "adRDTKDFXB7z"
      },
      "execution_count": 307,
      "outputs": []
    },
    {
      "cell_type": "code",
      "source": [
        "monkeyPoxDf['Oral Lesions'] = monkeyPoxDf['Oral Lesions'].astype(float)"
      ],
      "metadata": {
        "id": "Iw1ja4W8dY8t"
      },
      "execution_count": 308,
      "outputs": []
    },
    {
      "cell_type": "code",
      "source": [
        "monkeyPoxDf['Oral Lesions'].value_counts()"
      ],
      "metadata": {
        "colab": {
          "base_uri": "https://localhost:8080/"
        },
        "id": "CvcWHXXzeTZP",
        "outputId": "9fe2defd-7a89-45c4-d3c1-f6180d5bee25"
      },
      "execution_count": 309,
      "outputs": [
        {
          "output_type": "execute_result",
          "data": {
            "text/plain": [
              "0.0    12481\n",
              "1.0    12453\n",
              "Name: Oral Lesions, dtype: int64"
            ]
          },
          "metadata": {},
          "execution_count": 309
        }
      ]
    },
    {
      "cell_type": "code",
      "source": [
        "#count different kind of value\n",
        "monkeyPoxDf['Swollen Tonsils'].value_counts()"
      ],
      "metadata": {
        "colab": {
          "base_uri": "https://localhost:8080/"
        },
        "id": "rKpimV3OhhgM",
        "outputId": "0a78243f-dd55-4c67-c64c-d4bb8ce3b479"
      },
      "execution_count": 310,
      "outputs": [
        {
          "output_type": "execute_result",
          "data": {
            "text/plain": [
              "1.0    12497\n",
              "0.0    12437\n",
              "Name: Swollen Tonsils, dtype: int64"
            ]
          },
          "metadata": {},
          "execution_count": 310
        }
      ]
    },
    {
      "cell_type": "code",
      "source": [
        "monkeyPoxDf['Swollen Tonsils'].dtype"
      ],
      "metadata": {
        "colab": {
          "base_uri": "https://localhost:8080/"
        },
        "id": "almbwMFKh_QT",
        "outputId": "f43188b0-9832-42e3-c897-3b5ec5063abc"
      },
      "execution_count": 311,
      "outputs": [
        {
          "output_type": "execute_result",
          "data": {
            "text/plain": [
              "dtype('float64')"
            ]
          },
          "metadata": {},
          "execution_count": 311
        }
      ]
    },
    {
      "cell_type": "code",
      "source": [
        "#count different kind of value\n",
        "monkeyPoxDf['HIV Infection'].value_counts()"
      ],
      "metadata": {
        "colab": {
          "base_uri": "https://localhost:8080/"
        },
        "id": "jSFGLdvJii6K",
        "outputId": "21f67756-e072-41e7-f91a-aae564a37bb9"
      },
      "execution_count": 313,
      "outputs": [
        {
          "output_type": "execute_result",
          "data": {
            "text/plain": [
              "1.0    12552\n",
              "0.0    12382\n",
              "Name: HIV Infection, dtype: int64"
            ]
          },
          "metadata": {},
          "execution_count": 313
        }
      ]
    },
    {
      "cell_type": "code",
      "source": [
        "monkeyPoxDf['HIV Infection'].dtype"
      ],
      "metadata": {
        "colab": {
          "base_uri": "https://localhost:8080/"
        },
        "id": "ihgjEP1-iz-2",
        "outputId": "f84288d0-e4a4-4b36-88aa-7579a6f74d72"
      },
      "execution_count": 312,
      "outputs": [
        {
          "output_type": "execute_result",
          "data": {
            "text/plain": [
              "dtype('float64')"
            ]
          },
          "metadata": {},
          "execution_count": 312
        }
      ]
    },
    {
      "cell_type": "code",
      "source": [
        "# to find if there is outlier\n",
        "sns.boxplot(x=monkeyPoxDf['Red blood cells count'])\n"
      ],
      "metadata": {
        "colab": {
          "base_uri": "https://localhost:8080/",
          "height": 466
        },
        "id": "VlhQWWjljG_i",
        "outputId": "c3ee301f-5f5b-4f3b-a8a8-86bdf8578271"
      },
      "execution_count": 314,
      "outputs": [
        {
          "output_type": "execute_result",
          "data": {
            "text/plain": [
              "<Axes: xlabel='Red blood cells count'>"
            ]
          },
          "metadata": {},
          "execution_count": 314
        },
        {
          "output_type": "display_data",
          "data": {
            "text/plain": [
              "<Figure size 640x480 with 1 Axes>"
            ],
            "image/png": "[encoded data removed]"
          },
          "metadata": {}
        }
      ]
    },
    {
      "cell_type": "code",
      "source": [
        "#display basic statistic\n",
        "monkeyPoxDf['Red blood cells count'].describe()"
      ],
      "metadata": {
        "colab": {
          "base_uri": "https://localhost:8080/"
        },
        "id": "-MvpA1BAkn7O",
        "outputId": "ed975e68-778a-4c26-817a-628a01536c5d"
      },
      "execution_count": 315,
      "outputs": [
        {
          "output_type": "execute_result",
          "data": {
            "text/plain": [
              "count    2.493400e+04\n",
              "mean     5.004841e+06\n",
              "std      5.204626e+05\n",
              "min      4.100135e+06\n",
              "25%      4.555602e+06\n",
              "50%      5.002641e+06\n",
              "75%      5.459191e+06\n",
              "max      5.899806e+06\n",
              "Name: Red blood cells count, dtype: float64"
            ]
          },
          "metadata": {},
          "execution_count": 315
        }
      ]
    },
    {
      "cell_type": "code",
      "source": [
        "# to find if there is outlier\n",
        "sns.boxplot(x=monkeyPoxDf['White blood cells count'])"
      ],
      "metadata": {
        "colab": {
          "base_uri": "https://localhost:8080/",
          "height": 466
        },
        "id": "_DJ1myoJqc1q",
        "outputId": "d97a1337-09cc-4d32-b727-90babd0732a8"
      },
      "execution_count": 316,
      "outputs": [
        {
          "output_type": "execute_result",
          "data": {
            "text/plain": [
              "<Axes: xlabel='White blood cells count'>"
            ]
          },
          "metadata": {},
          "execution_count": 316
        },
        {
          "output_type": "display_data",
          "data": {
            "text/plain": [
              "<Figure size 640x480 with 1 Axes>"
            ],
            "image/png": "[encoded data removed]"
          },
          "metadata": {}
        }
      ]
    },
    {
      "cell_type": "code",
      "source": [
        "#display basic statistic\n",
        "monkeyPoxDf['Red blood cells count'].describe()"
      ],
      "metadata": {
        "colab": {
          "base_uri": "https://localhost:8080/"
        },
        "id": "yFpf29xsqxP5",
        "outputId": "3e639757-149f-4587-bf3b-a3fa4277339f"
      },
      "execution_count": 317,
      "outputs": [
        {
          "output_type": "execute_result",
          "data": {
            "text/plain": [
              "count    2.493400e+04\n",
              "mean     5.004841e+06\n",
              "std      5.204626e+05\n",
              "min      4.100135e+06\n",
              "25%      4.555602e+06\n",
              "50%      5.002641e+06\n",
              "75%      5.459191e+06\n",
              "max      5.899806e+06\n",
              "Name: Red blood cells count, dtype: float64"
            ]
          },
          "metadata": {},
          "execution_count": 317
        }
      ]
    },
    {
      "cell_type": "code",
      "source": [
        "#count different kind of value\n",
        "monkeyPoxDf['Age'].value_counts()"
      ],
      "metadata": {
        "colab": {
          "base_uri": "https://localhost:8080/"
        },
        "id": "c6cnOaiQquZq",
        "outputId": "2fb637fc-93e1-4e0e-c78e-68a6d03cd265"
      },
      "execution_count": 318,
      "outputs": [
        {
          "output_type": "execute_result",
          "data": {
            "text/plain": [
              "47        697\n",
              "33        683\n",
              "50        683\n",
              "58        675\n",
              "43        675\n",
              "48        673\n",
              "41        671\n",
              "46        668\n",
              "53        667\n",
              "37        667\n",
              "60        664\n",
              "26        654\n",
              "29        654\n",
              "49        651\n",
              "34        650\n",
              "39        649\n",
              "35        646\n",
              "59        641\n",
              "25        640\n",
              "36        639\n",
              "55        635\n",
              "45        634\n",
              "32        632\n",
              "52        628\n",
              "61        628\n",
              "23        624\n",
              "28        624\n",
              "40        623\n",
              "31        622\n",
              "51        621\n",
              "38        620\n",
              "44        617\n",
              "42        614\n",
              "30        609\n",
              "24        603\n",
              "57        595\n",
              "54        589\n",
              "27        582\n",
              "56        582\n",
              "150         1\n",
              "0           1\n",
              "Twenty      1\n",
              "181         1\n",
              "-23         1\n",
              "Name: Age, dtype: int64"
            ]
          },
          "metadata": {},
          "execution_count": 318
        }
      ]
    },
    {
      "cell_type": "code",
      "source": [
        "#replacing text with 0\n",
        "def removeText(age):\n",
        "    if age=='Twenty':\n",
        "        return 0\n",
        "    else:\n",
        "        return age\n",
        "\n",
        "# Apply the function to the 'Age' column\n",
        "monkeyPoxDf['Age'] = monkeyPoxDf['Age'].apply(removeText)"
      ],
      "metadata": {
        "id": "c6ek3e5hyPAO"
      },
      "execution_count": 319,
      "outputs": []
    },
    {
      "cell_type": "code",
      "source": [
        "monkeyPoxDf['Age'].value_counts()"
      ],
      "metadata": {
        "colab": {
          "base_uri": "https://localhost:8080/"
        },
        "id": "7qVMvvDs0v98",
        "outputId": "801c28c5-18be-4aab-bd7d-c0713dc37690"
      },
      "execution_count": 320,
      "outputs": [
        {
          "output_type": "execute_result",
          "data": {
            "text/plain": [
              "47     697\n",
              "33     683\n",
              "50     683\n",
              "58     675\n",
              "43     675\n",
              "48     673\n",
              "41     671\n",
              "46     668\n",
              "53     667\n",
              "37     667\n",
              "60     664\n",
              "26     654\n",
              "29     654\n",
              "49     651\n",
              "34     650\n",
              "39     649\n",
              "35     646\n",
              "59     641\n",
              "25     640\n",
              "36     639\n",
              "55     635\n",
              "45     634\n",
              "32     632\n",
              "52     628\n",
              "61     628\n",
              "23     624\n",
              "28     624\n",
              "40     623\n",
              "31     622\n",
              "51     621\n",
              "38     620\n",
              "44     617\n",
              "42     614\n",
              "30     609\n",
              "24     603\n",
              "57     595\n",
              "54     589\n",
              "27     582\n",
              "56     582\n",
              "150      1\n",
              "0        1\n",
              "0        1\n",
              "181      1\n",
              "-23      1\n",
              "Name: Age, dtype: int64"
            ]
          },
          "metadata": {},
          "execution_count": 320
        }
      ]
    },
    {
      "cell_type": "code",
      "source": [
        "#change datatype object to float\n",
        "monkeyPoxDf['Age'] = monkeyPoxDf['Age'].astype(float)"
      ],
      "metadata": {
        "id": "qSyeXA-l2dGd"
      },
      "execution_count": 321,
      "outputs": []
    },
    {
      "cell_type": "code",
      "source": [
        "#display basic statistic\n",
        "monkeyPoxDf['Age'].describe()"
      ],
      "metadata": {
        "colab": {
          "base_uri": "https://localhost:8080/"
        },
        "id": "bW6oWHRN2wA6",
        "outputId": "60920a95-96a6-4ab2-df22-613eee1656e2"
      },
      "execution_count": 322,
      "outputs": [
        {
          "output_type": "execute_result",
          "data": {
            "text/plain": [
              "count    24934.000000\n",
              "mean        42.057512\n",
              "std         11.256755\n",
              "min        -23.000000\n",
              "25%         32.000000\n",
              "50%         42.000000\n",
              "75%         52.000000\n",
              "max        181.000000\n",
              "Name: Age, dtype: float64"
            ]
          },
          "metadata": {},
          "execution_count": 322
        }
      ]
    },
    {
      "cell_type": "code",
      "source": [
        "#finding outlier\n",
        "sns.boxplot(x=monkeyPoxDf['Age'])"
      ],
      "metadata": {
        "colab": {
          "base_uri": "https://localhost:8080/",
          "height": 466
        },
        "id": "ewtnnORy3GUi",
        "outputId": "553f5d02-adee-421a-a2bd-e19f7c09beac"
      },
      "execution_count": 323,
      "outputs": [
        {
          "output_type": "execute_result",
          "data": {
            "text/plain": [
              "<Axes: xlabel='Age'>"
            ]
          },
          "metadata": {},
          "execution_count": 323
        },
        {
          "output_type": "display_data",
          "data": {
            "text/plain": [
              "<Figure size 640x480 with 1 Axes>"
            ],
            "image/png": "[encoded data removed]"
          },
          "metadata": {}
        }
      ]
    },
    {
      "cell_type": "code",
      "source": [
        "#get median\n",
        "median_AGE = monkeyPoxDf['Age'].median()\n",
        "median_AGE"
      ],
      "metadata": {
        "colab": {
          "base_uri": "https://localhost:8080/"
        },
        "id": "i8KkSRNC3VFs",
        "outputId": "772640a4-390a-44eb-ff68-2d895b853b2c"
      },
      "execution_count": 324,
      "outputs": [
        {
          "output_type": "execute_result",
          "data": {
            "text/plain": [
              "42.0"
            ]
          },
          "metadata": {},
          "execution_count": 324
        }
      ]
    },
    {
      "cell_type": "code",
      "source": [
        "#populating outlier with median\n",
        "def populateMedian(age):\n",
        "    if age <=0 or age>100:\n",
        "        return median_AGE\n",
        "    else:\n",
        "        return age\n",
        "\n",
        "monkeyPoxDf['Age'] = monkeyPoxDf['Age'].apply(populateMedian)"
      ],
      "metadata": {
        "id": "BhyDWNZoL3XY"
      },
      "execution_count": 325,
      "outputs": []
    },
    {
      "cell_type": "code",
      "source": [
        "#no significant change after populating\n",
        "monkeyPoxDf['Age'].describe()"
      ],
      "metadata": {
        "colab": {
          "base_uri": "https://localhost:8080/"
        },
        "id": "uMQ4M9eX8GtR",
        "outputId": "41a1c311-4b06-4d84-dbd4-4c3a77831d32"
      },
      "execution_count": 326,
      "outputs": [
        {
          "output_type": "execute_result",
          "data": {
            "text/plain": [
              "count    24934.000000\n",
              "mean        42.053581\n",
              "std         11.187551\n",
              "min         23.000000\n",
              "25%         32.000000\n",
              "50%         42.000000\n",
              "75%         52.000000\n",
              "max         61.000000\n",
              "Name: Age, dtype: float64"
            ]
          },
          "metadata": {},
          "execution_count": 326
        }
      ]
    },
    {
      "cell_type": "code",
      "source": [
        "#display age after cleaning\n",
        "monkeyPoxDf['Age'].value_counts()"
      ],
      "metadata": {
        "colab": {
          "base_uri": "https://localhost:8080/"
        },
        "id": "M-dI8pGE8kKC",
        "outputId": "05ad78ba-dfab-4043-c188-b0efc3ee5293"
      },
      "execution_count": 327,
      "outputs": [
        {
          "output_type": "execute_result",
          "data": {
            "text/plain": [
              "47.0    697\n",
              "33.0    683\n",
              "50.0    683\n",
              "58.0    675\n",
              "43.0    675\n",
              "48.0    673\n",
              "41.0    671\n",
              "46.0    668\n",
              "37.0    667\n",
              "53.0    667\n",
              "60.0    664\n",
              "26.0    654\n",
              "29.0    654\n",
              "49.0    651\n",
              "34.0    650\n",
              "39.0    649\n",
              "35.0    646\n",
              "59.0    641\n",
              "25.0    640\n",
              "36.0    639\n",
              "55.0    635\n",
              "45.0    634\n",
              "32.0    632\n",
              "52.0    628\n",
              "61.0    628\n",
              "23.0    624\n",
              "28.0    624\n",
              "40.0    623\n",
              "31.0    622\n",
              "51.0    621\n",
              "38.0    620\n",
              "42.0    619\n",
              "44.0    617\n",
              "30.0    609\n",
              "24.0    603\n",
              "57.0    595\n",
              "54.0    589\n",
              "56.0    582\n",
              "27.0    582\n",
              "Name: Age, dtype: int64"
            ]
          },
          "metadata": {},
          "execution_count": 327
        }
      ]
    },
    {
      "cell_type": "code",
      "source": [
        "#display outlier after cleaning\n",
        "sns.boxplot(x=monkeyPoxDf['Age'])"
      ],
      "metadata": {
        "colab": {
          "base_uri": "https://localhost:8080/",
          "height": 466
        },
        "id": "9K7A2Mfs_m5V",
        "outputId": "8eb49c91-55dc-4668-87cf-9a3c302a0dcb"
      },
      "execution_count": 328,
      "outputs": [
        {
          "output_type": "execute_result",
          "data": {
            "text/plain": [
              "<Axes: xlabel='Age'>"
            ]
          },
          "metadata": {},
          "execution_count": 328
        },
        {
          "output_type": "display_data",
          "data": {
            "text/plain": [
              "<Figure size 640x480 with 1 Axes>"
            ],
            "image/png": "[encoded data removed]"
          },
          "metadata": {}
        }
      ]
    },
    {
      "cell_type": "markdown",
      "source": [],
      "metadata": {
        "id": "BxON6KH68kAe"
      }
    },
    {
      "cell_type": "code",
      "source": [
        "#to find any issues from statistical\n",
        "monkeyPoxDf['Month of Birth'].describe()"
      ],
      "metadata": {
        "colab": {
          "base_uri": "https://localhost:8080/"
        },
        "id": "lh03f8UW_uob",
        "outputId": "a568965b-d277-482e-b120-c4b62aee78d8"
      },
      "execution_count": 329,
      "outputs": [
        {
          "output_type": "execute_result",
          "data": {
            "text/plain": [
              "count    24934.000000\n",
              "mean         6.515320\n",
              "std          3.440306\n",
              "min          1.000000\n",
              "25%          4.000000\n",
              "50%          7.000000\n",
              "75%         10.000000\n",
              "max         12.000000\n",
              "Name: Month of Birth, dtype: float64"
            ]
          },
          "metadata": {},
          "execution_count": 329
        }
      ]
    },
    {
      "cell_type": "code",
      "source": [
        "monkeyPoxDf['Sexually Transmitted Infection'].value_counts()"
      ],
      "metadata": {
        "colab": {
          "base_uri": "https://localhost:8080/"
        },
        "id": "KHdFlY4MM_EV",
        "outputId": "c77e4f55-6071-4ae5-e8ac-582391713bc8"
      },
      "execution_count": 330,
      "outputs": [
        {
          "output_type": "execute_result",
          "data": {
            "text/plain": [
              "0.0    12522\n",
              "1.0    12412\n",
              "Name: Sexually Transmitted Infection, dtype: int64"
            ]
          },
          "metadata": {},
          "execution_count": 330
        }
      ]
    },
    {
      "cell_type": "code",
      "source": [
        "monkeyPoxDf['Sexually Transmitted Infection'].dtype"
      ],
      "metadata": {
        "colab": {
          "base_uri": "https://localhost:8080/"
        },
        "id": "fKMTsebKNVJg",
        "outputId": "10ecd2a1-01d8-45eb-c014-1bfe2bbd9012"
      },
      "execution_count": 331,
      "outputs": [
        {
          "output_type": "execute_result",
          "data": {
            "text/plain": [
              "dtype('float64')"
            ]
          },
          "metadata": {},
          "execution_count": 331
        }
      ]
    },
    {
      "cell_type": "code",
      "source": [
        "monkeyPoxDf.dtypes"
      ],
      "metadata": {
        "colab": {
          "base_uri": "https://localhost:8080/"
        },
        "id": "AOjQiD7lNlkb",
        "outputId": "416ada13-34bc-40d4-bf6b-47ce08700ddf"
      },
      "execution_count": 332,
      "outputs": [
        {
          "output_type": "execute_result",
          "data": {
            "text/plain": [
              "Encoded Systemic Illness          float64\n",
              "Rectal Pain                       float64\n",
              "Sore Throat                         int64\n",
              "Penile Oedema                     float64\n",
              "Oral Lesions                      float64\n",
              "Solitary Lesion                     int64\n",
              "Swollen Tonsils                   float64\n",
              "HIV Infection                     float64\n",
              "Red blood cells count               int64\n",
              "White blood cells count             int64\n",
              "Age                               float64\n",
              "Month of Birth                      int64\n",
              "Health Insurance                    int64\n",
              "Sexually Transmitted Infection    float64\n",
              "MPOX PCR Result                     int64\n",
              "dtype: object"
            ]
          },
          "metadata": {},
          "execution_count": 332
        }
      ]
    },
    {
      "cell_type": "code",
      "source": [
        "monkeyPoxDf.describe().transpose()"
      ],
      "metadata": {
        "colab": {
          "base_uri": "https://localhost:8080/",
          "height": 520
        },
        "id": "ee3nfm9TTBte",
        "outputId": "66050f33-d250-42cb-fa8e-76e466a56261"
      },
      "execution_count": 333,
      "outputs": [
        {
          "output_type": "execute_result",
          "data": {
            "text/plain": [
              "                                  count          mean            std  \\\n",
              "Encoded Systemic Illness        24934.0  1.497353e+00       1.116833   \n",
              "Rectal Pain                     24934.0  4.940242e-01       0.499974   \n",
              "Sore Throat                     24934.0  5.019251e-01       0.500006   \n",
              "Penile Oedema                   24934.0  5.042512e-01       0.499992   \n",
              "Oral Lesions                    24934.0  4.994385e-01       0.500010   \n",
              "Solitary Lesion                 24934.0  5.009224e-01       0.500009   \n",
              "Swollen Tonsils                 24934.0  5.012032e-01       0.500009   \n",
              "HIV Infection                   24934.0  5.034090e-01       0.499998   \n",
              "Red blood cells count           24934.0  5.004841e+06  520462.583946   \n",
              "White blood cells count         24934.0  7.748958e+03    1885.325223   \n",
              "Age                             24934.0  4.205358e+01      11.187551   \n",
              "Month of Birth                  24934.0  6.515320e+00       3.440306   \n",
              "Health Insurance                24934.0  4.987567e-01       0.500008   \n",
              "Sexually Transmitted Infection  24934.0  4.977942e-01       0.500005   \n",
              "MPOX PCR Result                 24934.0  6.363600e-01       0.481056   \n",
              "\n",
              "                                      min         25%        50%         75%  \\\n",
              "Encoded Systemic Illness              0.0        1.00        1.0        2.75   \n",
              "Rectal Pain                           0.0        0.00        0.0        1.00   \n",
              "Sore Throat                           0.0        0.00        1.0        1.00   \n",
              "Penile Oedema                         0.0        0.00        1.0        1.00   \n",
              "Oral Lesions                          0.0        0.00        0.0        1.00   \n",
              "Solitary Lesion                       0.0        0.00        1.0        1.00   \n",
              "Swollen Tonsils                       0.0        0.00        1.0        1.00   \n",
              "HIV Infection                         0.0        0.00        1.0        1.00   \n",
              "Red blood cells count           4100135.0  4555602.25  5002641.0  5459190.75   \n",
              "White blood cells count            4500.0     6116.00     7746.0     9378.00   \n",
              "Age                                  23.0       32.00       42.0       52.00   \n",
              "Month of Birth                        1.0        4.00        7.0       10.00   \n",
              "Health Insurance                      0.0        0.00        0.0        1.00   \n",
              "Sexually Transmitted Infection        0.0        0.00        0.0        1.00   \n",
              "MPOX PCR Result                       0.0        0.00        1.0        1.00   \n",
              "\n",
              "                                      max  \n",
              "Encoded Systemic Illness              3.0  \n",
              "Rectal Pain                           1.0  \n",
              "Sore Throat                           1.0  \n",
              "Penile Oedema                         1.0  \n",
              "Oral Lesions                          1.0  \n",
              "Solitary Lesion                       1.0  \n",
              "Swollen Tonsils                       1.0  \n",
              "HIV Infection                         1.0  \n",
              "Red blood cells count           5899806.0  \n",
              "White blood cells count           11000.0  \n",
              "Age                                  61.0  \n",
              "Month of Birth                       12.0  \n",
              "Health Insurance                      1.0  \n",
              "Sexually Transmitted Infection        1.0  \n",
              "MPOX PCR Result                       1.0  "
            ],
            "text/html": [
              "\n",
              "  <div id=\"df-2591ddb1-8588-4397-9714-93edbcf8960d\" class=\"colab-df-container\">\n",
              "    <div>\n",
              "<style scoped>\n",
              "    .dataframe tbody tr th:only-of-type {\n",
              "        vertical-align: middle;\n",
              "    }\n",
              "\n",
              "    .dataframe tbody tr th {\n",
              "        vertical-align: top;\n",
              "    }\n",
              "\n",
              "    .dataframe thead th {\n",
              "        text-align: right;\n",
              "    }\n",
              "</style>\n",
              "<table border=\"1\" class=\"dataframe\">\n",
              "  <thead>\n",
              "    <tr style=\"text-align: right;\">\n",
              "      <th></th>\n",
              "      <th>count</th>\n",
              "      <th>mean</th>\n",
              "      <th>std</th>\n",
              "      <th>min</th>\n",
              "      <th>25%</th>\n",
              "      <th>50%</th>\n",
              "      <th>75%</th>\n",
              "      <th>max</th>\n",
              "    </tr>\n",
              "  </thead>\n",
              "  <tbody>\n",
              "    <tr>\n",
              "      <th>Encoded Systemic Illness</th>\n",
              "      <td>24934.0</td>\n",
              "      <td>1.497353e+00</td>\n",
              "      <td>1.116833</td>\n",
              "      <td>0.0</td>\n",
              "      <td>1.00</td>\n",
              "      <td>1.0</td>\n",
              "      <td>2.75</td>\n",
              "      <td>3.0</td>\n",
              "    </tr>\n",
              "    <tr>\n",
              "      <th>Rectal Pain</th>\n",
              "      <td>24934.0</td>\n",
              "      <td>4.940242e-01</td>\n",
              "      <td>0.499974</td>\n",
              "      <td>0.0</td>\n",
              "      <td>0.00</td>\n",
              "      <td>0.0</td>\n",
              "      <td>1.00</td>\n",
              "      <td>1.0</td>\n",
              "    </tr>\n",
              "    <tr>\n",
              "      <th>Sore Throat</th>\n",
              "      <td>24934.0</td>\n",
              "      <td>5.019251e-01</td>\n",
              "      <td>0.500006</td>\n",
              "      <td>0.0</td>\n",
              "      <td>0.00</td>\n",
              "      <td>1.0</td>\n",
              "      <td>1.00</td>\n",
              "      <td>1.0</td>\n",
              "    </tr>\n",
              "    <tr>\n",
              "      <th>Penile Oedema</th>\n",
              "      <td>24934.0</td>\n",
              "      <td>5.042512e-01</td>\n",
              "      <td>0.499992</td>\n",
              "      <td>0.0</td>\n",
              "      <td>0.00</td>\n",
              "      <td>1.0</td>\n",
              "      <td>1.00</td>\n",
              "      <td>1.0</td>\n",
              "    </tr>\n",
              "    <tr>\n",
              "      <th>Oral Lesions</th>\n",
              "      <td>24934.0</td>\n",
              "      <td>4.994385e-01</td>\n",
              "      <td>0.500010</td>\n",
              "      <td>0.0</td>\n",
              "      <td>0.00</td>\n",
              "      <td>0.0</td>\n",
              "      <td>1.00</td>\n",
              "      <td>1.0</td>\n",
              "    </tr>\n",
              "    <tr>\n",
              "      <th>Solitary Lesion</th>\n",
              "      <td>24934.0</td>\n",
              "      <td>5.009224e-01</td>\n",
              "      <td>0.500009</td>\n",
              "      <td>0.0</td>\n",
              "      <td>0.00</td>\n",
              "      <td>1.0</td>\n",
              "      <td>1.00</td>\n",
              "      <td>1.0</td>\n",
              "    </tr>\n",
              "    <tr>\n",
              "      <th>Swollen Tonsils</th>\n",
              "      <td>24934.0</td>\n",
              "      <td>5.012032e-01</td>\n",
              "      <td>0.500009</td>\n",
              "      <td>0.0</td>\n",
              "      <td>0.00</td>\n",
              "      <td>1.0</td>\n",
              "      <td>1.00</td>\n",
              "      <td>1.0</td>\n",
              "    </tr>\n",
              "    <tr>\n",
              "      <th>HIV Infection</th>\n",
              "      <td>24934.0</td>\n",
              "      <td>5.034090e-01</td>\n",
              "      <td>0.499998</td>\n",
              "      <td>0.0</td>\n",
              "      <td>0.00</td>\n",
              "      <td>1.0</td>\n",
              "      <td>1.00</td>\n",
              "      <td>1.0</td>\n",
              "    </tr>\n",
              "    <tr>\n",
              "      <th>Red blood cells count</th>\n",
              "      <td>24934.0</td>\n",
              "      <td>5.004841e+06</td>\n",
              "      <td>520462.583946</td>\n",
              "      <td>4100135.0</td>\n",
              "      <td>4555602.25</td>\n",
              "      <td>5002641.0</td>\n",
              "      <td>5459190.75</td>\n",
              "      <td>5899806.0</td>\n",
              "    </tr>\n",
              "    <tr>\n",
              "      <th>White blood cells count</th>\n",
              "      <td>24934.0</td>\n",
              "      <td>7.748958e+03</td>\n",
              "      <td>1885.325223</td>\n",
              "      <td>4500.0</td>\n",
              "      <td>6116.00</td>\n",
              "      <td>7746.0</td>\n",
              "      <td>9378.00</td>\n",
              "      <td>11000.0</td>\n",
              "    </tr>\n",
              "    <tr>\n",
              "      <th>Age</th>\n",
              "      <td>24934.0</td>\n",
              "      <td>4.205358e+01</td>\n",
              "      <td>11.187551</td>\n",
              "      <td>23.0</td>\n",
              "      <td>32.00</td>\n",
              "      <td>42.0</td>\n",
              "      <td>52.00</td>\n",
              "      <td>61.0</td>\n",
              "    </tr>\n",
              "    <tr>\n",
              "      <th>Month of Birth</th>\n",
              "      <td>24934.0</td>\n",
              "      <td>6.515320e+00</td>\n",
              "      <td>3.440306</td>\n",
              "      <td>1.0</td>\n",
              "      <td>4.00</td>\n",
              "      <td>7.0</td>\n",
              "      <td>10.00</td>\n",
              "      <td>12.0</td>\n",
              "    </tr>\n",
              "    <tr>\n",
              "      <th>Health Insurance</th>\n",
              "      <td>24934.0</td>\n",
              "      <td>4.987567e-01</td>\n",
              "      <td>0.500008</td>\n",
              "      <td>0.0</td>\n",
              "      <td>0.00</td>\n",
              "      <td>0.0</td>\n",
              "      <td>1.00</td>\n",
              "      <td>1.0</td>\n",
              "    </tr>\n",
              "    <tr>\n",
              "      <th>Sexually Transmitted Infection</th>\n",
              "      <td>24934.0</td>\n",
              "      <td>4.977942e-01</td>\n",
              "      <td>0.500005</td>\n",
              "      <td>0.0</td>\n",
              "      <td>0.00</td>\n",
              "      <td>0.0</td>\n",
              "      <td>1.00</td>\n",
              "      <td>1.0</td>\n",
              "    </tr>\n",
              "    <tr>\n",
              "      <th>MPOX PCR Result</th>\n",
              "      <td>24934.0</td>\n",
              "      <td>6.363600e-01</td>\n",
              "      <td>0.481056</td>\n",
              "      <td>0.0</td>\n",
              "      <td>0.00</td>\n",
              "      <td>1.0</td>\n",
              "      <td>1.00</td>\n",
              "      <td>1.0</td>\n",
              "    </tr>\n",
              "  </tbody>\n",
              "</table>\n",
              "</div>\n",
              "    <div class=\"colab-df-buttons\">\n",
              "\n",
              "  <div class=\"colab-df-container\">\n",
              "    <button class=\"colab-df-convert\" onclick=\"convertToInteractive('df-2591ddb1-8588-4397-9714-93edbcf8960d')\"\n",
              "            title=\"Convert this dataframe to an interactive table.\"\n",
              "            style=\"display:none;\">\n",
              "\n",
              "  <svg xmlns=\"http://www.w3.org/2000/svg\" height=\"24px\" viewBox=\"0 -960 960 960\">\n",
              "    <path d=\"M120-120v-720h720v720H120Zm60-500h600v-160H180v160Zm220 220h160v-160H400v160Zm0 220h160v-160H400v160ZM180-400h160v-160H180v160Zm440 0h160v-160H620v160ZM180-180h160v-160H180v160Zm440 0h160v-160H620v160Z\"/>\n",
              "  </svg>\n",
              "    </button>\n",
              "\n",
              "  <style>\n",
              "    .colab-df-container {\n",
              "      display:flex;\n",
              "      gap: 12px;\n",
              "    }\n",
              "\n",
              "    .colab-df-convert {\n",
              "      background-color: #E8F0FE;\n",
              "      border: none;\n",
              "      border-radius: 50%;\n",
              "      cursor: pointer;\n",
              "      display: none;\n",
              "      fill: #1967D2;\n",
              "      height: 32px;\n",
              "      padding: 0 0 0 0;\n",
              "      width: 32px;\n",
              "    }\n",
              "\n",
              "    .colab-df-convert:hover {\n",
              "      background-color: #E2EBFA;\n",
              "      box-shadow: 0px 1px 2px rgba(60, 64, 67, 0.3), 0px 1px 3px 1px rgba(60, 64, 67, 0.15);\n",
              "      fill: #174EA6;\n",
              "    }\n",
              "\n",
              "    .colab-df-buttons div {\n",
              "      margin-bottom: 4px;\n",
              "    }\n",
              "\n",
              "    [theme=dark] .colab-df-convert {\n",
              "      background-color: #3B4455;\n",
              "      fill: #D2E3FC;\n",
              "    }\n",
              "\n",
              "    [theme=dark] .colab-df-convert:hover {\n",
              "      background-color: #434B5C;\n",
              "      box-shadow: 0px 1px 3px 1px rgba(0, 0, 0, 0.15);\n",
              "      filter: drop-shadow(0px 1px 2px rgba(0, 0, 0, 0.3));\n",
              "      fill: #FFFFFF;\n",
              "    }\n",
              "  </style>\n",
              "\n",
              "    <script>\n",
              "      const buttonEl =\n",
              "        document.querySelector('#df-2591ddb1-8588-4397-9714-93edbcf8960d button.colab-df-convert');\n",
              "      buttonEl.style.display =\n",
              "        google.colab.kernel.accessAllowed ? 'block' : 'none';\n",
              "\n",
              "      async function convertToInteractive(key) {\n",
              "        const element = document.querySelector('#df-2591ddb1-8588-4397-9714-93edbcf8960d');\n",
              "        const dataTable =\n",
              "          await google.colab.kernel.invokeFunction('convertToInteractive',\n",
              "                                                    [key], {});\n",
              "        if (!dataTable) return;\n",
              "\n",
              "        const docLinkHtml = 'Like what you see? Visit the ' +\n",
              "          '<a target=\"_blank\" href=https://colab.research.google.com/notebooks/data_table.ipynb>data table notebook</a>'\n",
              "          + ' to learn more about interactive tables.';\n",
              "        element.innerHTML = '';\n",
              "        dataTable['output_type'] = 'display_data';\n",
              "        await google.colab.output.renderOutput(dataTable, element);\n",
              "        const docLink = document.createElement('div');\n",
              "        docLink.innerHTML = docLinkHtml;\n",
              "        element.appendChild(docLink);\n",
              "      }\n",
              "    </script>\n",
              "  </div>\n",
              "\n",
              "\n",
              "<div id=\"df-553aabe0-7b52-4d3b-b7ce-a5b1b368be17\">\n",
              "  <button class=\"colab-df-quickchart\" onclick=\"quickchart('df-553aabe0-7b52-4d3b-b7ce-a5b1b368be17')\"\n",
              "            title=\"Suggest charts\"\n",
              "            style=\"display:none;\">\n",
              "\n",
              "<svg xmlns=\"http://www.w3.org/2000/svg\" height=\"24px\"viewBox=\"0 0 24 24\"\n",
              "     width=\"24px\">\n",
              "    <g>\n",
              "        <path d=\"M19 3H5c-1.1 0-2 .9-2 2v14c0 1.1.9 2 2 2h14c1.1 0 2-.9 2-2V5c0-1.1-.9-2-2-2zM9 17H7v-7h2v7zm4 0h-2V7h2v10zm4 0h-2v-4h2v4z\"/>\n",
              "    </g>\n",
              "</svg>\n",
              "  </button>\n",
              "\n",
              "<style>\n",
              "  .colab-df-quickchart {\n",
              "      --bg-color: #E8F0FE;\n",
              "      --fill-color: #1967D2;\n",
              "      --hover-bg-color: #E2EBFA;\n",
              "      --hover-fill-color: #174EA6;\n",
              "      --disabled-fill-color: #AAA;\n",
              "      --disabled-bg-color: #DDD;\n",
              "  }\n",
              "\n",
              "  [theme=dark] .colab-df-quickchart {\n",
              "      --bg-color: #3B4455;\n",
              "      --fill-color: #D2E3FC;\n",
              "      --hover-bg-color: #434B5C;\n",
              "      --hover-fill-color: #FFFFFF;\n",
              "      --disabled-bg-color: #3B4455;\n",
              "      --disabled-fill-color: #666;\n",
              "  }\n",
              "\n",
              "  .colab-df-quickchart {\n",
              "    background-color: var(--bg-color);\n",
              "    border: none;\n",
              "    border-radius: 50%;\n",
              "    cursor: pointer;\n",
              "    display: none;\n",
              "    fill: var(--fill-color);\n",
              "    height: 32px;\n",
              "    padding: 0;\n",
              "    width: 32px;\n",
              "  }\n",
              "\n",
              "  .colab-df-quickchart:hover {\n",
              "    background-color: var(--hover-bg-color);\n",
              "    box-shadow: 0 1px 2px rgba(60, 64, 67, 0.3), 0 1px 3px 1px rgba(60, 64, 67, 0.15);\n",
              "    fill: var(--button-hover-fill-color);\n",
              "  }\n",
              "\n",
              "  .colab-df-quickchart-complete:disabled,\n",
              "  .colab-df-quickchart-complete:disabled:hover {\n",
              "    background-color: var(--disabled-bg-color);\n",
              "    fill: var(--disabled-fill-color);\n",
              "    box-shadow: none;\n",
              "  }\n",
              "\n",
              "  .colab-df-spinner {\n",
              "    border: 2px solid var(--fill-color);\n",
              "    border-color: transparent;\n",
              "    border-bottom-color: var(--fill-color);\n",
              "    animation:\n",
              "      spin 1s steps(1) infinite;\n",
              "  }\n",
              "\n",
              "  @keyframes spin {\n",
              "    0% {\n",
              "      border-color: transparent;\n",
              "      border-bottom-color: var(--fill-color);\n",
              "      border-left-color: var(--fill-color);\n",
              "    }\n",
              "    20% {\n",
              "      border-color: transparent;\n",
              "      border-left-color: var(--fill-color);\n",
              "      border-top-color: var(--fill-color);\n",
              "    }\n",
              "    30% {\n",
              "      border-color: transparent;\n",
              "      border-left-color: var(--fill-color);\n",
              "      border-top-color: var(--fill-color);\n",
              "      border-right-color: var(--fill-color);\n",
              "    }\n",
              "    40% {\n",
              "      border-color: transparent;\n",
              "      border-right-color: var(--fill-color);\n",
              "      border-top-color: var(--fill-color);\n",
              "    }\n",
              "    60% {\n",
              "      border-color: transparent;\n",
              "      border-right-color: var(--fill-color);\n",
              "    }\n",
              "    80% {\n",
              "      border-color: transparent;\n",
              "      border-right-color: var(--fill-color);\n",
              "      border-bottom-color: var(--fill-color);\n",
              "    }\n",
              "    90% {\n",
              "      border-color: transparent;\n",
              "      border-bottom-color: var(--fill-color);\n",
              "    }\n",
              "  }\n",
              "</style>\n",
              "\n",
              "  <script>\n",
              "    async function quickchart(key) {\n",
              "      const quickchartButtonEl =\n",
              "        document.querySelector('#' + key + ' button');\n",
              "      quickchartButtonEl.disabled = true;  // To prevent multiple clicks.\n",
              "      quickchartButtonEl.classList.add('colab-df-spinner');\n",
              "      try {\n",
              "        const charts = await google.colab.kernel.invokeFunction(\n",
              "            'suggestCharts', [key], {});\n",
              "      } catch (error) {\n",
              "        console.error('Error during call to suggestCharts:', error);\n",
              "      }\n",
              "      quickchartButtonEl.classList.remove('colab-df-spinner');\n",
              "      quickchartButtonEl.classList.add('colab-df-quickchart-complete');\n",
              "    }\n",
              "    (() => {\n",
              "      let quickchartButtonEl =\n",
              "        document.querySelector('#df-553aabe0-7b52-4d3b-b7ce-a5b1b368be17 button');\n",
              "      quickchartButtonEl.style.display =\n",
              "        google.colab.kernel.accessAllowed ? 'block' : 'none';\n",
              "    })();\n",
              "  </script>\n",
              "</div>\n",
              "    </div>\n",
              "  </div>\n"
            ]
          },
          "metadata": {},
          "execution_count": 333
        }
      ]
    },
    {
      "cell_type": "code",
      "source": [
        "monkeyPoxDf['MPOX PCR Result']=monkeyPoxDf['MPOX PCR Result'].astype(float)\n",
        "monkeyPoxDf['MPOX PCR Result'].dtype\n"
      ],
      "metadata": {
        "colab": {
          "base_uri": "https://localhost:8080/"
        },
        "id": "yKA95-NsmG0D",
        "outputId": "d8d90d95-6b34-4c21-a540-4133855cf5a0"
      },
      "execution_count": 334,
      "outputs": [
        {
          "output_type": "execute_result",
          "data": {
            "text/plain": [
              "dtype('float64')"
            ]
          },
          "metadata": {},
          "execution_count": 334
        }
      ]
    },
    {
      "cell_type": "code",
      "source": [
        "X = monkeyPoxDf.drop('MPOX PCR Result', axis=1)\n",
        "y = monkeyPoxDf['MPOX PCR Result']"
      ],
      "metadata": {
        "id": "x_5AfkcElwba"
      },
      "execution_count": 335,
      "outputs": []
    },
    {
      "cell_type": "code",
      "source": [
        "print(X.head)"
      ],
      "metadata": {
        "colab": {
          "base_uri": "https://localhost:8080/"
        },
        "id": "dgNYUKwhl1FU",
        "outputId": "a16d8a74-3349-488e-9521-4dce42f658e0"
      },
      "execution_count": 336,
      "outputs": [
        {
          "output_type": "stream",
          "name": "stdout",
          "text": [
            "<bound method NDFrame.head of        Encoded Systemic Illness  Rectal Pain  Sore Throat  Penile Oedema  \\\n",
            "0                           0.0          0.0            1            1.0   \n",
            "1                           1.0          1.0            0            1.0   \n",
            "2                           1.0          0.0            1            1.0   \n",
            "3                           0.0          1.0            0            0.0   \n",
            "4                           3.0          1.0            1            1.0   \n",
            "...                         ...          ...          ...            ...   \n",
            "24995                       0.0          1.0            1            0.0   \n",
            "24996                       1.0          0.0            1            1.0   \n",
            "24997                       0.0          1.0            1            0.0   \n",
            "24998                       3.0          0.0            1            0.0   \n",
            "24999                       3.0          0.0            0            1.0   \n",
            "\n",
            "       Oral Lesions  Solitary Lesion  Swollen Tonsils  HIV Infection  \\\n",
            "0               1.0                0              1.0            0.0   \n",
            "1               1.0                0              0.0            1.0   \n",
            "2               0.0                0              0.0            1.0   \n",
            "3               0.0                1              1.0            1.0   \n",
            "4               0.0                0              1.0            1.0   \n",
            "...             ...              ...              ...            ...   \n",
            "24995           1.0                1              0.0            0.0   \n",
            "24996           0.0                1              1.0            1.0   \n",
            "24997           0.0                1              1.0            0.0   \n",
            "24998           1.0                1              1.0            0.0   \n",
            "24999           0.0                0              1.0            1.0   \n",
            "\n",
            "       Red blood cells count  White blood cells count   Age  Month of Birth  \\\n",
            "0                    5363690                     9382  37.0              10   \n",
            "1                    5797376                     7891  24.0               7   \n",
            "2                    4509503                     9424  34.0              11   \n",
            "3                    4613306                     4608  40.0               3   \n",
            "4                    5423126                    10668  36.0               8   \n",
            "...                      ...                      ...   ...             ...   \n",
            "24995                5774935                     9537  56.0               1   \n",
            "24996                4719924                     7596  50.0              10   \n",
            "24997                4254616                    10949  24.0              12   \n",
            "24998                5440155                     6006  56.0               9   \n",
            "24999                5398533                     7850  47.0               7   \n",
            "\n",
            "       Health Insurance  Sexually Transmitted Infection  \n",
            "0                     0                             0.0  \n",
            "1                     1                             0.0  \n",
            "2                     1                             0.0  \n",
            "3                     0                             0.0  \n",
            "4                     0                             0.0  \n",
            "...                 ...                             ...  \n",
            "24995                 0                             1.0  \n",
            "24996                 1                             1.0  \n",
            "24997                 1                             0.0  \n",
            "24998                 1                             0.0  \n",
            "24999                 0                             0.0  \n",
            "\n",
            "[24934 rows x 14 columns]>\n"
          ]
        }
      ]
    },
    {
      "cell_type": "code",
      "source": [
        "#divide dataset into input/feature and target variable\n",
        "from sklearn.model_selection import train_test_split\n",
        "from sklearn.preprocessing import MinMaxScaler\n",
        "scaler = MinMaxScaler() #scalling WIN MIN MAX SCALER\n",
        "X=scaler.fit_transform(X)\n",
        "X_train, X_test, y_train, y_test = train_test_split(X, y, test_size = 0.25, random_state=1) #randon state 1 remain same set for train and test"
      ],
      "metadata": {
        "id": "oMQzMdRjTZ52"
      },
      "execution_count": 337,
      "outputs": []
    },
    {
      "cell_type": "code",
      "source": [
        "# Calculate the ratio of positive and negative values in the training set\n",
        "positive_ratio_train = (sum(y_train == 1) / len(y_train)) * 100\n",
        "negative_ratio_train = (sum(y_train == 0) / len(y_train)) * 100\n",
        "\n",
        "# Calculate the ratio of positive and negative values in the testing set\n",
        "positive_ratio_test = (sum(y_test == 1) / len(y_test)) * 100\n",
        "negative_ratio_test = (sum(y_test == 0) / len(y_test)) * 100\n",
        "\n",
        "# Print the ratios as percentages\n",
        "print(\"Training Set:\")\n",
        "print(\"Positive Ratio: {:.2f}%\".format(positive_ratio_train))\n",
        "print(\"Negative Ratio: {:.2f}%\".format(negative_ratio_train))\n",
        "\n",
        "print(\"\\nTesting Set:\")\n",
        "print(\"Positive Ratio: {:.2f}%\".format(positive_ratio_test))\n",
        "print(\"Negative Ratio: {:.2f}%\".format(negative_ratio_test))"
      ],
      "metadata": {
        "colab": {
          "base_uri": "https://localhost:8080/"
        },
        "id": "hsHSjrl8jJkS",
        "outputId": "892dc786-c453-4826-92a1-3b86802bf61f"
      },
      "execution_count": 338,
      "outputs": [
        {
          "output_type": "stream",
          "name": "stdout",
          "text": [
            "Training Set:\n",
            "Positive Ratio: 63.76%\n",
            "Negative Ratio: 36.24%\n",
            "\n",
            "Testing Set:\n",
            "Positive Ratio: 63.25%\n",
            "Negative Ratio: 36.75%\n"
          ]
        }
      ]
    },
    {
      "cell_type": "code",
      "source": [
        "from sklearn.linear_model import LogisticRegression\n",
        "from sklearn.neighbors import KNeighborsClassifier\n",
        "from sklearn.metrics import accuracy_score, classification_report\n",
        "from sklearn.svm import SVC\n",
        "from sklearn.naive_bayes import GaussianNB\n",
        "from sklearn.tree import DecisionTreeClassifier\n",
        "\n",
        "\n",
        "# preparing Entire model\n",
        "logr = LogisticRegression()\n",
        "dt = DecisionTreeClassifier(random_state=42)\n",
        "knn = KNeighborsClassifier()\n",
        "svm = SVC(kernel='rbf')\n",
        "nb = GaussianNB()\n",
        "\n",
        "\n",
        "# Train Model with train data\n",
        "logr.fit(X_train, y_train)\n",
        "dt.fit(X_train, y_train)\n",
        "knn.fit(X_train, y_train)\n",
        "svm.fit(X_train, y_train)\n",
        "nb.fit(X_train, y_train)\n",
        "\n",
        "\n",
        "# Predic Model with test data\n",
        "logr_preds = logr.predict(X_test)\n",
        "dt_preds = dt.predict(X_test)\n",
        "knn_preds = knn.predict(X_test)\n",
        "svm_preds = svm.predict(X_test)\n",
        "nb_preds = nb.predict(X_test)\n",
        "\n",
        "\n",
        "\n",
        "# Evaluate all the models\n",
        "print(\"logistic regration Accuracy: \", accuracy_score(y_test, logr_preds))\n",
        "print(classification_report(y_test, logr_preds))\n",
        "\n",
        "print(\"Decision Tree Accuracy: \", accuracy_score(y_test, dt_preds))\n",
        "print(classification_report(y_test, dt_preds))\n",
        "\n",
        "print(\"K-Nearest Neighbors Accuracy: \", accuracy_score(y_test, knn_preds))\n",
        "print(classification_report(y_test, knn_preds))\n",
        "\n",
        "print(\"SVM Accuracy: \", accuracy_score(y_test, svm_preds))\n",
        "print(classification_report(y_test, svm_preds))\n",
        "\n",
        "print(\"Naive Bayes Accuracy: \", accuracy_score(y_test, nb_preds))\n",
        "print(classification_report(y_test, nb_preds))\n"
      ],
      "metadata": {
        "colab": {
          "base_uri": "https://localhost:8080/"
        },
        "id": "rK8PoL6YcXf0",
        "outputId": "f62ed0b6-25d6-40e0-e56c-71ce77e80ca1"
      },
      "execution_count": 339,
      "outputs": [
        {
          "output_type": "stream",
          "name": "stdout",
          "text": [
            "logistic regration Accuracy:  0.6729226820660892\n",
            "              precision    recall  f1-score   support\n",
            "\n",
            "         0.0       0.62      0.28      0.39      2291\n",
            "         1.0       0.68      0.90      0.78      3943\n",
            "\n",
            "    accuracy                           0.67      6234\n",
            "   macro avg       0.65      0.59      0.58      6234\n",
            "weighted avg       0.66      0.67      0.63      6234\n",
            "\n",
            "Decision Tree Accuracy:  0.582771896053898\n",
            "              precision    recall  f1-score   support\n",
            "\n",
            "         0.0       0.43      0.44      0.44      2291\n",
            "         1.0       0.67      0.66      0.67      3943\n",
            "\n",
            "    accuracy                           0.58      6234\n",
            "   macro avg       0.55      0.55      0.55      6234\n",
            "weighted avg       0.58      0.58      0.58      6234\n",
            "\n",
            "K-Nearest Neighbors Accuracy:  0.6196663458453642\n",
            "              precision    recall  f1-score   support\n",
            "\n",
            "         0.0       0.48      0.36      0.41      2291\n",
            "         1.0       0.67      0.77      0.72      3943\n",
            "\n",
            "    accuracy                           0.62      6234\n",
            "   macro avg       0.58      0.57      0.57      6234\n",
            "weighted avg       0.60      0.62      0.61      6234\n",
            "\n",
            "SVM Accuracy:  0.6655437921077959\n",
            "              precision    recall  f1-score   support\n",
            "\n",
            "         0.0       0.63      0.22      0.32      2291\n",
            "         1.0       0.67      0.93      0.78      3943\n",
            "\n",
            "    accuracy                           0.67      6234\n",
            "   macro avg       0.65      0.57      0.55      6234\n",
            "weighted avg       0.66      0.67      0.61      6234\n",
            "\n",
            "Naive Bayes Accuracy:  0.673403914019891\n",
            "              precision    recall  f1-score   support\n",
            "\n",
            "         0.0       0.63      0.27      0.38      2291\n",
            "         1.0       0.68      0.91      0.78      3943\n",
            "\n",
            "    accuracy                           0.67      6234\n",
            "   macro avg       0.66      0.59      0.58      6234\n",
            "weighted avg       0.66      0.67      0.63      6234\n",
            "\n"
          ]
        }
      ]
    },
    {
      "cell_type": "code",
      "source": [
        "from sklearn.metrics import roc_auc_score\n",
        "\n",
        "# printing Auc-Roc\n",
        "aucr_logr = roc_auc_score(y_test, logr_preds)\n",
        "aucr_dt = roc_auc_score(y_test, dt_preds)\n",
        "aucr_knn = roc_auc_score(y_test, knn_preds)\n",
        "aucr_svm = roc_auc_score(y_test, svm_preds)\n",
        "aucr_nb = roc_auc_score(y_test, nb_preds)\n",
        "\n",
        "\n",
        "print(\"AUC-ROC score LG: \\n\", aucr_logr)\n",
        "print(\"AUC-ROC score DT: \\n\", aucr_dt)\n",
        "print(\"AUC-ROC score KNN: \\n\", aucr_knn)\n",
        "print(\"AUC-ROC score SVM: \\n\", aucr_svm)\n",
        "print(\"AUC-ROC score NB: \\n\", aucr_nb)"
      ],
      "metadata": {
        "colab": {
          "base_uri": "https://localhost:8080/"
        },
        "id": "D6HuFqdtu6gB",
        "outputId": "96e7055b-4a15-4c5d-af9a-bf8125758855"
      },
      "execution_count": 341,
      "outputs": [
        {
          "output_type": "stream",
          "name": "stdout",
          "text": [
            "AUC-ROC score LG: \n",
            " 0.5908416342748859\n",
            "AUC-ROC score DT: \n",
            " 0.5534082743698312\n",
            "AUC-ROC score KNN: \n",
            " 0.5658406739512518\n",
            "AUC-ROC score SVM: \n",
            " 0.5716585193215455\n",
            "AUC-ROC score NB: \n",
            " 0.5891189741905967\n"
          ]
        }
      ]
    },
    {
      "cell_type": "code",
      "source": [
        "#generating confussion matrix\n",
        "from sklearn.metrics import confusion_matrix\n",
        "\n",
        "logr_cmat = confusion_matrix(y_test, logr_preds)\n",
        "print(\"Logistic Regretion Confusion Matrix: \\n\", logr_cmat)\n",
        "\n",
        "dt_cmat = confusion_matrix(y_test, dt_preds)\n",
        "print(\"Decision Tree Confusion Matrix: \\n\", dt_cmat)\n",
        "\n",
        "knn_cmat = confusion_matrix(y_test, knn_preds)\n",
        "print(\"K-Nearest Neighbors Confusion Matrix: \\n\", knn_cmat)\n",
        "\n",
        "svm_cmat = confusion_matrix(y_test, svm_preds)\n",
        "print(\"SVM Confusion Matrix: \\n\", svm_cmat)\n",
        "\n",
        "\n",
        "nb_cmat = confusion_matrix(y_test, nb_preds)\n",
        "print(\"Naive Bayes Confusion Matrix: \\n\", nb_cmat)\n",
        "\n",
        "\n"
      ],
      "metadata": {
        "colab": {
          "base_uri": "https://localhost:8080/"
        },
        "id": "pnytXCb3dTi2",
        "outputId": "93bea600-d13f-46f8-f304-72d43861f8ba"
      },
      "execution_count": 342,
      "outputs": [
        {
          "output_type": "stream",
          "name": "stdout",
          "text": [
            "Logistic Regretion Confusion Matrix: \n",
            " [[ 644 1647]\n",
            " [ 392 3551]]\n",
            "Decision Tree Confusion Matrix: \n",
            " [[1014 1277]\n",
            " [1324 2619]]\n",
            "K-Nearest Neighbors Confusion Matrix: \n",
            " [[ 831 1460]\n",
            " [ 911 3032]]\n",
            "SVM Confusion Matrix: \n",
            " [[ 498 1793]\n",
            " [ 292 3651]]\n",
            "Naive Bayes Confusion Matrix: \n",
            " [[ 621 1670]\n",
            " [ 366 3577]]\n"
          ]
        }
      ]
    },
    {
      "cell_type": "code",
      "source": [
        "#ploting confussion matrix\n",
        "import seaborn as sns\n",
        "\n",
        "sns.heatmap(logr_cmat, annot=True,fmt=\"d\", cmap=\"Blues\")\n",
        "plt.title(\"LG Confusion Matrix (1=Positive, 0=Negative)\")\n",
        "plt.xlabel(\"Predicted\")\n",
        "plt.ylabel(\"Actual\")\n",
        "plt.show()\n",
        "\n",
        "sns.heatmap(dt_cmat, annot=True,fmt=\"d\", cmap=\"Greens\")\n",
        "plt.title(\"DT Confusion Matrix (1=Positive, 0=Negative)\")\n",
        "plt.xlabel(\"Predicted\")\n",
        "plt.ylabel(\"Actual\")\n",
        "plt.show()\n",
        "\n",
        "sns.heatmap(knn_cmat, annot=True,fmt=\"d\", cmap=\"Greys\")\n",
        "plt.title(\"KNN Confusion Matrix (1=Positive, 0=Negative)\")\n",
        "plt.xlabel(\"Predicted\")\n",
        "plt.ylabel(\"Actual\")\n",
        "plt.show()\n",
        "\n",
        "sns.heatmap(svm_cmat, annot=True,fmt=\"d\", cmap=\"Reds\")\n",
        "plt.title(\"SVM Confusion Matrix (1=Positive, 0=Negative)\")\n",
        "plt.xlabel(\"Predicted\")\n",
        "plt.ylabel(\"Actual\")\n",
        "plt.show()\n",
        "\n",
        "sns.heatmap(nb_cmat, annot=True,fmt=\"d\", cmap=\"Greens\")\n",
        "plt.title(\"NB Model Confusion Matrix (1=Positive, 0=Negative)\")\n",
        "plt.xlabel(\"Predicted\")\n",
        "plt.ylabel(\"Actual\")\n",
        "plt.show()\n",
        "\n",
        "\n",
        "\n"
      ],
      "metadata": {
        "colab": {
          "base_uri": "https://localhost:8080/",
          "height": 1000
        },
        "id": "BY8D4dy_dnaZ",
        "outputId": "6f95a1af-a4d8-4201-c779-d086ad94e364"
      },
      "execution_count": 343,
      "outputs": [
        {
          "output_type": "display_data",
          "data": {
            "text/plain": [
              "<Figure size 640x480 with 2 Axes>"
            ],
            "image/png": "[encoded data removed]"
          },
          "metadata": {}
        },
        {
          "output_type": "display_data",
          "data": {
            "text/plain": [
              "<Figure size 640x480 with 2 Axes>"
            ],
            "image/png": "[encoded data removed]"
          },
          "metadata": {}
        },
        {
          "output_type": "display_data",
          "data": {
            "text/plain": [
              "<Figure size 640x480 with 2 Axes>"
            ],
            "image/png": "[encoded data removed]"
          },
          "metadata": {}
        },
        {
          "output_type": "display_data",
          "data": {
            "text/plain": [
              "<Figure size 640x480 with 2 Axes>"
            ],
            "image/png": "[encoded data removed]"
          },
          "metadata": {}
        },
        {
          "output_type": "display_data",
          "data": {
            "text/plain": [
              "<Figure size 640x480 with 2 Axes>"
            ],
            "image/png": "[encoded data removed]"
          },
          "metadata": {}
        }
      ]
    },
    {
      "cell_type": "code",
      "source": [
        "from sklearn.model_selection import GridSearchCV\n",
        "from sklearn.metrics import confusion_matrix, classification_report\n",
        "from sklearn.svm import SVC\n",
        "from sklearn.preprocessing import MinMaxScaler\n",
        "from sklearn.model_selection import train_test_split\n",
        "\n",
        "# Define the SVM model\n",
        "svm_model = SVC(kernel='rbf')\n",
        "\n",
        "# Define the hyperparameters to tune\n",
        "param_grid = {\n",
        "    'C': [0.1, 1],\n",
        "    'gamma': [0.001, 0.01, 0.1, 1, 'scale', 'auto']\n",
        "}\n",
        "\n",
        "# Create GridSearchCV\n",
        "grid_search = GridSearchCV(estimator=svm_model, param_grid=param_grid, cv=5, scoring='accuracy')\n",
        "\n",
        "# Fit the model with the tuned hyperparameters\n",
        "grid_search.fit(X_train, y_train)\n",
        "\n",
        "# Get the best hyperparameters\n",
        "best_params = grid_search.best_params_\n",
        "print(\"Best Hyperparameters:\", best_params)\n",
        "\n",
        "# Use the best model for predictions\n",
        "best_svm_model = grid_search.best_estimator_\n",
        "y_pred = best_svm_model.predict(X_test)\n",
        "\n",
        "# Evaluate the model\n",
        "conf_matrix = confusion_matrix(y_test, y_pred)\n",
        "classification_rep = classification_report(y_test, y_pred)\n",
        "\n",
        "print(\"Confusion Matrix:\\n\", conf_matrix)\n",
        "print(\"\\nClassification Report:\\n\", classification_rep)"
      ],
      "metadata": {
        "colab": {
          "base_uri": "https://localhost:8080/"
        },
        "id": "rkOgEyj4qTzL",
        "outputId": "90b79356-18b0-4a85-e6a6-8adb2dfd0fc5"
      },
      "execution_count": 340,
      "outputs": [
        {
          "output_type": "stream",
          "name": "stdout",
          "text": [
            "Best Hyperparameters: {'C': 1, 'gamma': 0.1}\n",
            "Confusion Matrix:\n",
            " [[ 413 1878]\n",
            " [ 231 3712]]\n",
            "\n",
            "Classification Report:\n",
            "               precision    recall  f1-score   support\n",
            "\n",
            "         0.0       0.64      0.18      0.28      2291\n",
            "         1.0       0.66      0.94      0.78      3943\n",
            "\n",
            "    accuracy                           0.66      6234\n",
            "   macro avg       0.65      0.56      0.53      6234\n",
            "weighted avg       0.66      0.66      0.60      6234\n",
            "\n"
          ]
        }
      ]
    },
    {
      "cell_type": "code",
      "source": [
        "#initiate a new ensemble model\n",
        "from sklearn.ensemble import VotingClassifier\n",
        "#create a dictionary of our base learner models\n",
        "base_learners=[('svm', svm), ('nb', nb)]\n",
        "#create our voting classifier, inputting our models\n",
        "ensemble_learner = VotingClassifier(base_learners, voting='hard')\n",
        "#fit model to training data\n",
        "ensemble_learner.fit(X_train, y_train)\n",
        "#test our model on the test data\n",
        "\n",
        "ensemble_preds=ensemble_learner.predict(X_test)\n",
        "\n",
        "print(\"Hard voting ensenbles Accuracy: \", accuracy_score(y_test, ensemble_preds))\n",
        "print(classification_report(y_test, ensemble_preds))\n",
        "# print(f'Accuracy: {accuracy:.4f}')"
      ],
      "metadata": {
        "colab": {
          "base_uri": "https://localhost:8080/"
        },
        "id": "D505kZyFB8BN",
        "outputId": "627b4eb5-fa8e-47f9-f2ee-54d22e42c7b2"
      },
      "execution_count": 344,
      "outputs": [
        {
          "output_type": "stream",
          "name": "stdout",
          "text": [
            "Hard voting ensenbles Accuracy:  0.6709977542508823\n",
            "              precision    recall  f1-score   support\n",
            "\n",
            "         0.0       0.61      0.28      0.39      2291\n",
            "         1.0       0.68      0.90      0.77      3943\n",
            "\n",
            "    accuracy                           0.67      6234\n",
            "   macro avg       0.65      0.59      0.58      6234\n",
            "weighted avg       0.66      0.67      0.63      6234\n",
            "\n"
          ]
        }
      ]
    }
  ]
}